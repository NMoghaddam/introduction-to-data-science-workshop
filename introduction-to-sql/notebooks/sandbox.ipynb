{
 "cells": [
  {
   "cell_type": "code",
   "execution_count": 1,
   "metadata": {},
   "outputs": [
    {
     "ename": "SyntaxError",
     "evalue": "invalid syntax (<ipython-input-1-55bc8a1902cc>, line 1)",
     "output_type": "error",
     "traceback": [
      "\u001b[0;36m  File \u001b[0;32m\"<ipython-input-1-55bc8a1902cc>\"\u001b[0;36m, line \u001b[0;32m1\u001b[0m\n\u001b[0;31m    SELECT * FROM Person;\u001b[0m\n\u001b[0m                  ^\u001b[0m\n\u001b[0;31mSyntaxError\u001b[0m\u001b[0;31m:\u001b[0m invalid syntax\n"
     ]
    }
   ],
   "source": [
    "SELECT * FROM Person;"
   ]
  },
  {
   "cell_type": "markdown",
   "metadata": {},
   "source": [
    "## Useful IPython Magic Command for writing SQL in Jupyter Notebooks!"
   ]
  },
  {
   "cell_type": "code",
   "execution_count": 2,
   "metadata": {},
   "outputs": [],
   "source": [
    "%load_ext sql"
   ]
  },
  {
   "cell_type": "code",
   "execution_count": 3,
   "metadata": {},
   "outputs": [],
   "source": [
    "%sql sqlite:///../data/survey.db"
   ]
  },
  {
   "cell_type": "code",
   "execution_count": 4,
   "metadata": {},
   "outputs": [
    {
     "name": "stdout",
     "output_type": "stream",
     "text": [
      " * sqlite:///../data/survey.db\n",
      "Done.\n"
     ]
    },
    {
     "data": {
      "text/html": [
       "<table>\n",
       "    <tr>\n",
       "        <th>id</th>\n",
       "        <th>personal</th>\n",
       "        <th>family</th>\n",
       "    </tr>\n",
       "    <tr>\n",
       "        <td>dyer</td>\n",
       "        <td>William</td>\n",
       "        <td>Dyer</td>\n",
       "    </tr>\n",
       "    <tr>\n",
       "        <td>pb</td>\n",
       "        <td>Frank</td>\n",
       "        <td>Pabodie</td>\n",
       "    </tr>\n",
       "    <tr>\n",
       "        <td>lake</td>\n",
       "        <td>Anderson</td>\n",
       "        <td>Lake</td>\n",
       "    </tr>\n",
       "    <tr>\n",
       "        <td>roe</td>\n",
       "        <td>Valentina</td>\n",
       "        <td>Roerich</td>\n",
       "    </tr>\n",
       "    <tr>\n",
       "        <td>danforth</td>\n",
       "        <td>Frank</td>\n",
       "        <td>Danforth</td>\n",
       "    </tr>\n",
       "</table>"
      ],
      "text/plain": [
       "[('dyer', 'William', 'Dyer'),\n",
       " ('pb', 'Frank', 'Pabodie'),\n",
       " ('lake', 'Anderson', 'Lake'),\n",
       " ('roe', 'Valentina', 'Roerich'),\n",
       " ('danforth', 'Frank', 'Danforth')]"
      ]
     },
     "execution_count": 4,
     "metadata": {},
     "output_type": "execute_result"
    }
   ],
   "source": [
    "%sql SELECT * FROM Person;"
   ]
  },
  {
   "cell_type": "code",
   "execution_count": 5,
   "metadata": {},
   "outputs": [
    {
     "name": "stdout",
     "output_type": "stream",
     "text": [
      " * sqlite:///../data/survey.db\n",
      "Done.\n"
     ]
    },
    {
     "data": {
      "text/html": [
       "<table>\n",
       "    <tr>\n",
       "        <th>id</th>\n",
       "        <th>personal</th>\n",
       "        <th>family</th>\n",
       "    </tr>\n",
       "    <tr>\n",
       "        <td>dyer</td>\n",
       "        <td>William</td>\n",
       "        <td>Dyer</td>\n",
       "    </tr>\n",
       "    <tr>\n",
       "        <td>pb</td>\n",
       "        <td>Frank</td>\n",
       "        <td>Pabodie</td>\n",
       "    </tr>\n",
       "    <tr>\n",
       "        <td>lake</td>\n",
       "        <td>Anderson</td>\n",
       "        <td>Lake</td>\n",
       "    </tr>\n",
       "    <tr>\n",
       "        <td>roe</td>\n",
       "        <td>Valentina</td>\n",
       "        <td>Roerich</td>\n",
       "    </tr>\n",
       "    <tr>\n",
       "        <td>danforth</td>\n",
       "        <td>Frank</td>\n",
       "        <td>Danforth</td>\n",
       "    </tr>\n",
       "</table>"
      ],
      "text/plain": [
       "[('dyer', 'William', 'Dyer'),\n",
       " ('pb', 'Frank', 'Pabodie'),\n",
       " ('lake', 'Anderson', 'Lake'),\n",
       " ('roe', 'Valentina', 'Roerich'),\n",
       " ('danforth', 'Frank', 'Danforth')]"
      ]
     },
     "execution_count": 5,
     "metadata": {},
     "output_type": "execute_result"
    }
   ],
   "source": [
    "%%sql\n",
    "SELECT * FROM Person\n",
    ";"
   ]
  },
  {
   "cell_type": "markdown",
   "metadata": {},
   "source": [
    "## How to run Sqlite commands like .schema or .tables?"
   ]
  },
  {
   "cell_type": "code",
   "execution_count": 16,
   "metadata": {},
   "outputs": [],
   "source": [
    "# TODO put the answer!"
   ]
  },
  {
   "cell_type": "markdown",
   "metadata": {},
   "source": [
    "## Sorting and Removing Duplicates"
   ]
  },
  {
   "cell_type": "code",
   "execution_count": 6,
   "metadata": {},
   "outputs": [
    {
     "name": "stdout",
     "output_type": "stream",
     "text": [
      " * sqlite:///../data/survey.db\n",
      "Done.\n"
     ]
    },
    {
     "data": {
      "text/html": [
       "<table>\n",
       "    <tr>\n",
       "        <th>quant</th>\n",
       "    </tr>\n",
       "    <tr>\n",
       "        <td>rad</td>\n",
       "    </tr>\n",
       "    <tr>\n",
       "        <td>sal</td>\n",
       "    </tr>\n",
       "    <tr>\n",
       "        <td>rad</td>\n",
       "    </tr>\n",
       "    <tr>\n",
       "        <td>sal</td>\n",
       "    </tr>\n",
       "    <tr>\n",
       "        <td>rad</td>\n",
       "    </tr>\n",
       "    <tr>\n",
       "        <td>sal</td>\n",
       "    </tr>\n",
       "    <tr>\n",
       "        <td>temp</td>\n",
       "    </tr>\n",
       "    <tr>\n",
       "        <td>rad</td>\n",
       "    </tr>\n",
       "    <tr>\n",
       "        <td>sal</td>\n",
       "    </tr>\n",
       "    <tr>\n",
       "        <td>temp</td>\n",
       "    </tr>\n",
       "    <tr>\n",
       "        <td>rad</td>\n",
       "    </tr>\n",
       "    <tr>\n",
       "        <td>temp</td>\n",
       "    </tr>\n",
       "    <tr>\n",
       "        <td>sal</td>\n",
       "    </tr>\n",
       "    <tr>\n",
       "        <td>rad</td>\n",
       "    </tr>\n",
       "    <tr>\n",
       "        <td>sal</td>\n",
       "    </tr>\n",
       "    <tr>\n",
       "        <td>temp</td>\n",
       "    </tr>\n",
       "    <tr>\n",
       "        <td>sal</td>\n",
       "    </tr>\n",
       "    <tr>\n",
       "        <td>rad</td>\n",
       "    </tr>\n",
       "    <tr>\n",
       "        <td>sal</td>\n",
       "    </tr>\n",
       "    <tr>\n",
       "        <td>sal</td>\n",
       "    </tr>\n",
       "    <tr>\n",
       "        <td>rad</td>\n",
       "    </tr>\n",
       "</table>"
      ],
      "text/plain": [
       "[('rad',),\n",
       " ('sal',),\n",
       " ('rad',),\n",
       " ('sal',),\n",
       " ('rad',),\n",
       " ('sal',),\n",
       " ('temp',),\n",
       " ('rad',),\n",
       " ('sal',),\n",
       " ('temp',),\n",
       " ('rad',),\n",
       " ('temp',),\n",
       " ('sal',),\n",
       " ('rad',),\n",
       " ('sal',),\n",
       " ('temp',),\n",
       " ('sal',),\n",
       " ('rad',),\n",
       " ('sal',),\n",
       " ('sal',),\n",
       " ('rad',)]"
      ]
     },
     "execution_count": 6,
     "metadata": {},
     "output_type": "execute_result"
    }
   ],
   "source": [
    "%sql SELECT quant FROM Survey;"
   ]
  },
  {
   "cell_type": "code",
   "execution_count": 7,
   "metadata": {},
   "outputs": [
    {
     "name": "stdout",
     "output_type": "stream",
     "text": [
      " * sqlite:///../data/survey.db\n",
      "Done.\n"
     ]
    },
    {
     "data": {
      "text/html": [
       "<table>\n",
       "    <tr>\n",
       "        <th>quant</th>\n",
       "    </tr>\n",
       "    <tr>\n",
       "        <td>rad</td>\n",
       "    </tr>\n",
       "    <tr>\n",
       "        <td>sal</td>\n",
       "    </tr>\n",
       "    <tr>\n",
       "        <td>temp</td>\n",
       "    </tr>\n",
       "</table>"
      ],
      "text/plain": [
       "[('rad',), ('sal',), ('temp',)]"
      ]
     },
     "execution_count": 7,
     "metadata": {},
     "output_type": "execute_result"
    }
   ],
   "source": [
    "%sql SELECT DISTINCT quant FROM Survey;"
   ]
  },
  {
   "cell_type": "code",
   "execution_count": 8,
   "metadata": {},
   "outputs": [
    {
     "name": "stdout",
     "output_type": "stream",
     "text": [
      " * sqlite:///../data/survey.db\n",
      "Done.\n"
     ]
    },
    {
     "data": {
      "text/html": [
       "<table>\n",
       "    <tr>\n",
       "        <th>taken</th>\n",
       "        <th>quant</th>\n",
       "    </tr>\n",
       "    <tr>\n",
       "        <td>619</td>\n",
       "        <td>rad</td>\n",
       "    </tr>\n",
       "    <tr>\n",
       "        <td>619</td>\n",
       "        <td>sal</td>\n",
       "    </tr>\n",
       "    <tr>\n",
       "        <td>622</td>\n",
       "        <td>rad</td>\n",
       "    </tr>\n",
       "    <tr>\n",
       "        <td>622</td>\n",
       "        <td>sal</td>\n",
       "    </tr>\n",
       "    <tr>\n",
       "        <td>734</td>\n",
       "        <td>rad</td>\n",
       "    </tr>\n",
       "    <tr>\n",
       "        <td>734</td>\n",
       "        <td>sal</td>\n",
       "    </tr>\n",
       "    <tr>\n",
       "        <td>734</td>\n",
       "        <td>temp</td>\n",
       "    </tr>\n",
       "    <tr>\n",
       "        <td>735</td>\n",
       "        <td>rad</td>\n",
       "    </tr>\n",
       "    <tr>\n",
       "        <td>735</td>\n",
       "        <td>sal</td>\n",
       "    </tr>\n",
       "    <tr>\n",
       "        <td>735</td>\n",
       "        <td>temp</td>\n",
       "    </tr>\n",
       "    <tr>\n",
       "        <td>751</td>\n",
       "        <td>rad</td>\n",
       "    </tr>\n",
       "    <tr>\n",
       "        <td>751</td>\n",
       "        <td>temp</td>\n",
       "    </tr>\n",
       "    <tr>\n",
       "        <td>751</td>\n",
       "        <td>sal</td>\n",
       "    </tr>\n",
       "    <tr>\n",
       "        <td>752</td>\n",
       "        <td>rad</td>\n",
       "    </tr>\n",
       "    <tr>\n",
       "        <td>752</td>\n",
       "        <td>sal</td>\n",
       "    </tr>\n",
       "    <tr>\n",
       "        <td>752</td>\n",
       "        <td>temp</td>\n",
       "    </tr>\n",
       "    <tr>\n",
       "        <td>837</td>\n",
       "        <td>rad</td>\n",
       "    </tr>\n",
       "    <tr>\n",
       "        <td>837</td>\n",
       "        <td>sal</td>\n",
       "    </tr>\n",
       "    <tr>\n",
       "        <td>844</td>\n",
       "        <td>rad</td>\n",
       "    </tr>\n",
       "</table>"
      ],
      "text/plain": [
       "[(619, 'rad'),\n",
       " (619, 'sal'),\n",
       " (622, 'rad'),\n",
       " (622, 'sal'),\n",
       " (734, 'rad'),\n",
       " (734, 'sal'),\n",
       " (734, 'temp'),\n",
       " (735, 'rad'),\n",
       " (735, 'sal'),\n",
       " (735, 'temp'),\n",
       " (751, 'rad'),\n",
       " (751, 'temp'),\n",
       " (751, 'sal'),\n",
       " (752, 'rad'),\n",
       " (752, 'sal'),\n",
       " (752, 'temp'),\n",
       " (837, 'rad'),\n",
       " (837, 'sal'),\n",
       " (844, 'rad')]"
      ]
     },
     "execution_count": 8,
     "metadata": {},
     "output_type": "execute_result"
    }
   ],
   "source": [
    "%sql SELECT DISTINCT taken, quant FROM Survey;"
   ]
  },
  {
   "cell_type": "code",
   "execution_count": 9,
   "metadata": {},
   "outputs": [
    {
     "name": "stdout",
     "output_type": "stream",
     "text": [
      " * sqlite:///../data/survey.db\n",
      "Done.\n"
     ]
    },
    {
     "data": {
      "text/html": [
       "<table>\n",
       "    <tr>\n",
       "        <th>id</th>\n",
       "        <th>personal</th>\n",
       "        <th>family</th>\n",
       "    </tr>\n",
       "    <tr>\n",
       "        <td>danforth</td>\n",
       "        <td>Frank</td>\n",
       "        <td>Danforth</td>\n",
       "    </tr>\n",
       "    <tr>\n",
       "        <td>dyer</td>\n",
       "        <td>William</td>\n",
       "        <td>Dyer</td>\n",
       "    </tr>\n",
       "    <tr>\n",
       "        <td>lake</td>\n",
       "        <td>Anderson</td>\n",
       "        <td>Lake</td>\n",
       "    </tr>\n",
       "    <tr>\n",
       "        <td>pb</td>\n",
       "        <td>Frank</td>\n",
       "        <td>Pabodie</td>\n",
       "    </tr>\n",
       "    <tr>\n",
       "        <td>roe</td>\n",
       "        <td>Valentina</td>\n",
       "        <td>Roerich</td>\n",
       "    </tr>\n",
       "</table>"
      ],
      "text/plain": [
       "[('danforth', 'Frank', 'Danforth'),\n",
       " ('dyer', 'William', 'Dyer'),\n",
       " ('lake', 'Anderson', 'Lake'),\n",
       " ('pb', 'Frank', 'Pabodie'),\n",
       " ('roe', 'Valentina', 'Roerich')]"
      ]
     },
     "execution_count": 9,
     "metadata": {},
     "output_type": "execute_result"
    }
   ],
   "source": [
    "%sql SELECT * FROM Person ORDER BY id;"
   ]
  },
  {
   "cell_type": "code",
   "execution_count": 10,
   "metadata": {},
   "outputs": [
    {
     "name": "stdout",
     "output_type": "stream",
     "text": [
      " * sqlite:///../data/survey.db\n",
      "Done.\n"
     ]
    },
    {
     "data": {
      "text/html": [
       "<table>\n",
       "    <tr>\n",
       "        <th>id</th>\n",
       "        <th>personal</th>\n",
       "        <th>family</th>\n",
       "    </tr>\n",
       "    <tr>\n",
       "        <td>roe</td>\n",
       "        <td>Valentina</td>\n",
       "        <td>Roerich</td>\n",
       "    </tr>\n",
       "    <tr>\n",
       "        <td>pb</td>\n",
       "        <td>Frank</td>\n",
       "        <td>Pabodie</td>\n",
       "    </tr>\n",
       "    <tr>\n",
       "        <td>lake</td>\n",
       "        <td>Anderson</td>\n",
       "        <td>Lake</td>\n",
       "    </tr>\n",
       "    <tr>\n",
       "        <td>dyer</td>\n",
       "        <td>William</td>\n",
       "        <td>Dyer</td>\n",
       "    </tr>\n",
       "    <tr>\n",
       "        <td>danforth</td>\n",
       "        <td>Frank</td>\n",
       "        <td>Danforth</td>\n",
       "    </tr>\n",
       "</table>"
      ],
      "text/plain": [
       "[('roe', 'Valentina', 'Roerich'),\n",
       " ('pb', 'Frank', 'Pabodie'),\n",
       " ('lake', 'Anderson', 'Lake'),\n",
       " ('dyer', 'William', 'Dyer'),\n",
       " ('danforth', 'Frank', 'Danforth')]"
      ]
     },
     "execution_count": 10,
     "metadata": {},
     "output_type": "execute_result"
    }
   ],
   "source": [
    "%sql SELECT * FROM Person ORDER BY id DESC;"
   ]
  },
  {
   "cell_type": "code",
   "execution_count": 11,
   "metadata": {},
   "outputs": [
    {
     "name": "stdout",
     "output_type": "stream",
     "text": [
      " * sqlite:///../data/survey.db\n",
      "Done.\n"
     ]
    },
    {
     "data": {
      "text/html": [
       "<table>\n",
       "    <tr>\n",
       "        <th>id</th>\n",
       "        <th>personal</th>\n",
       "        <th>family</th>\n",
       "    </tr>\n",
       "    <tr>\n",
       "        <td>danforth</td>\n",
       "        <td>Frank</td>\n",
       "        <td>Danforth</td>\n",
       "    </tr>\n",
       "    <tr>\n",
       "        <td>dyer</td>\n",
       "        <td>William</td>\n",
       "        <td>Dyer</td>\n",
       "    </tr>\n",
       "    <tr>\n",
       "        <td>lake</td>\n",
       "        <td>Anderson</td>\n",
       "        <td>Lake</td>\n",
       "    </tr>\n",
       "    <tr>\n",
       "        <td>pb</td>\n",
       "        <td>Frank</td>\n",
       "        <td>Pabodie</td>\n",
       "    </tr>\n",
       "    <tr>\n",
       "        <td>roe</td>\n",
       "        <td>Valentina</td>\n",
       "        <td>Roerich</td>\n",
       "    </tr>\n",
       "</table>"
      ],
      "text/plain": [
       "[('danforth', 'Frank', 'Danforth'),\n",
       " ('dyer', 'William', 'Dyer'),\n",
       " ('lake', 'Anderson', 'Lake'),\n",
       " ('pb', 'Frank', 'Pabodie'),\n",
       " ('roe', 'Valentina', 'Roerich')]"
      ]
     },
     "execution_count": 11,
     "metadata": {},
     "output_type": "execute_result"
    }
   ],
   "source": [
    "%sql SELECT * FROM Person ORDER BY id ASC;"
   ]
  },
  {
   "cell_type": "code",
   "execution_count": 12,
   "metadata": {},
   "outputs": [
    {
     "name": "stdout",
     "output_type": "stream",
     "text": [
      " * sqlite:///../data/survey.db\n",
      "Done.\n"
     ]
    },
    {
     "data": {
      "text/html": [
       "<table>\n",
       "    <tr>\n",
       "        <th>taken</th>\n",
       "        <th>person</th>\n",
       "        <th>quant</th>\n",
       "    </tr>\n",
       "    <tr>\n",
       "        <td>619</td>\n",
       "        <td>dyer</td>\n",
       "        <td>rad</td>\n",
       "    </tr>\n",
       "    <tr>\n",
       "        <td>619</td>\n",
       "        <td>dyer</td>\n",
       "        <td>sal</td>\n",
       "    </tr>\n",
       "    <tr>\n",
       "        <td>622</td>\n",
       "        <td>dyer</td>\n",
       "        <td>rad</td>\n",
       "    </tr>\n",
       "    <tr>\n",
       "        <td>622</td>\n",
       "        <td>dyer</td>\n",
       "        <td>sal</td>\n",
       "    </tr>\n",
       "    <tr>\n",
       "        <td>734</td>\n",
       "        <td>pb</td>\n",
       "        <td>rad</td>\n",
       "    </tr>\n",
       "    <tr>\n",
       "        <td>734</td>\n",
       "        <td>pb</td>\n",
       "        <td>temp</td>\n",
       "    </tr>\n",
       "    <tr>\n",
       "        <td>734</td>\n",
       "        <td>lake</td>\n",
       "        <td>sal</td>\n",
       "    </tr>\n",
       "    <tr>\n",
       "        <td>735</td>\n",
       "        <td>pb</td>\n",
       "        <td>rad</td>\n",
       "    </tr>\n",
       "    <tr>\n",
       "        <td>735</td>\n",
       "        <td>None</td>\n",
       "        <td>sal</td>\n",
       "    </tr>\n",
       "    <tr>\n",
       "        <td>735</td>\n",
       "        <td>None</td>\n",
       "        <td>temp</td>\n",
       "    </tr>\n",
       "    <tr>\n",
       "        <td>751</td>\n",
       "        <td>pb</td>\n",
       "        <td>rad</td>\n",
       "    </tr>\n",
       "    <tr>\n",
       "        <td>751</td>\n",
       "        <td>pb</td>\n",
       "        <td>temp</td>\n",
       "    </tr>\n",
       "    <tr>\n",
       "        <td>751</td>\n",
       "        <td>lake</td>\n",
       "        <td>sal</td>\n",
       "    </tr>\n",
       "    <tr>\n",
       "        <td>752</td>\n",
       "        <td>roe</td>\n",
       "        <td>sal</td>\n",
       "    </tr>\n",
       "    <tr>\n",
       "        <td>752</td>\n",
       "        <td>lake</td>\n",
       "        <td>rad</td>\n",
       "    </tr>\n",
       "    <tr>\n",
       "        <td>752</td>\n",
       "        <td>lake</td>\n",
       "        <td>sal</td>\n",
       "    </tr>\n",
       "    <tr>\n",
       "        <td>752</td>\n",
       "        <td>lake</td>\n",
       "        <td>temp</td>\n",
       "    </tr>\n",
       "    <tr>\n",
       "        <td>837</td>\n",
       "        <td>roe</td>\n",
       "        <td>sal</td>\n",
       "    </tr>\n",
       "    <tr>\n",
       "        <td>837</td>\n",
       "        <td>lake</td>\n",
       "        <td>rad</td>\n",
       "    </tr>\n",
       "    <tr>\n",
       "        <td>837</td>\n",
       "        <td>lake</td>\n",
       "        <td>sal</td>\n",
       "    </tr>\n",
       "    <tr>\n",
       "        <td>844</td>\n",
       "        <td>roe</td>\n",
       "        <td>rad</td>\n",
       "    </tr>\n",
       "</table>"
      ],
      "text/plain": [
       "[(619, 'dyer', 'rad'),\n",
       " (619, 'dyer', 'sal'),\n",
       " (622, 'dyer', 'rad'),\n",
       " (622, 'dyer', 'sal'),\n",
       " (734, 'pb', 'rad'),\n",
       " (734, 'pb', 'temp'),\n",
       " (734, 'lake', 'sal'),\n",
       " (735, 'pb', 'rad'),\n",
       " (735, None, 'sal'),\n",
       " (735, None, 'temp'),\n",
       " (751, 'pb', 'rad'),\n",
       " (751, 'pb', 'temp'),\n",
       " (751, 'lake', 'sal'),\n",
       " (752, 'roe', 'sal'),\n",
       " (752, 'lake', 'rad'),\n",
       " (752, 'lake', 'sal'),\n",
       " (752, 'lake', 'temp'),\n",
       " (837, 'roe', 'sal'),\n",
       " (837, 'lake', 'rad'),\n",
       " (837, 'lake', 'sal'),\n",
       " (844, 'roe', 'rad')]"
      ]
     },
     "execution_count": 12,
     "metadata": {},
     "output_type": "execute_result"
    }
   ],
   "source": [
    "%sql SELECT taken, person, quant FROM Survey ORDER BY taken ASC, person DESC;"
   ]
  },
  {
   "cell_type": "code",
   "execution_count": 17,
   "metadata": {},
   "outputs": [
    {
     "name": "stdout",
     "output_type": "stream",
     "text": [
      " * sqlite:///../data/survey.db\n",
      "Done.\n"
     ]
    },
    {
     "data": {
      "text/html": [
       "<table>\n",
       "    <tr>\n",
       "        <th>taken</th>\n",
       "        <th>person</th>\n",
       "        <th>quant</th>\n",
       "    </tr>\n",
       "    <tr>\n",
       "        <td>619</td>\n",
       "        <td>dyer</td>\n",
       "        <td>rad</td>\n",
       "    </tr>\n",
       "    <tr>\n",
       "        <td>619</td>\n",
       "        <td>dyer</td>\n",
       "        <td>sal</td>\n",
       "    </tr>\n",
       "    <tr>\n",
       "        <td>622</td>\n",
       "        <td>dyer</td>\n",
       "        <td>rad</td>\n",
       "    </tr>\n",
       "    <tr>\n",
       "        <td>622</td>\n",
       "        <td>dyer</td>\n",
       "        <td>sal</td>\n",
       "    </tr>\n",
       "    <tr>\n",
       "        <td>734</td>\n",
       "        <td>pb</td>\n",
       "        <td>rad</td>\n",
       "    </tr>\n",
       "    <tr>\n",
       "        <td>734</td>\n",
       "        <td>pb</td>\n",
       "        <td>temp</td>\n",
       "    </tr>\n",
       "    <tr>\n",
       "        <td>734</td>\n",
       "        <td>lake</td>\n",
       "        <td>sal</td>\n",
       "    </tr>\n",
       "    <tr>\n",
       "        <td>735</td>\n",
       "        <td>pb</td>\n",
       "        <td>rad</td>\n",
       "    </tr>\n",
       "    <tr>\n",
       "        <td>735</td>\n",
       "        <td>None</td>\n",
       "        <td>sal</td>\n",
       "    </tr>\n",
       "    <tr>\n",
       "        <td>735</td>\n",
       "        <td>None</td>\n",
       "        <td>temp</td>\n",
       "    </tr>\n",
       "    <tr>\n",
       "        <td>751</td>\n",
       "        <td>pb</td>\n",
       "        <td>rad</td>\n",
       "    </tr>\n",
       "    <tr>\n",
       "        <td>751</td>\n",
       "        <td>pb</td>\n",
       "        <td>temp</td>\n",
       "    </tr>\n",
       "    <tr>\n",
       "        <td>751</td>\n",
       "        <td>lake</td>\n",
       "        <td>sal</td>\n",
       "    </tr>\n",
       "    <tr>\n",
       "        <td>752</td>\n",
       "        <td>roe</td>\n",
       "        <td>sal</td>\n",
       "    </tr>\n",
       "    <tr>\n",
       "        <td>752</td>\n",
       "        <td>lake</td>\n",
       "        <td>rad</td>\n",
       "    </tr>\n",
       "    <tr>\n",
       "        <td>752</td>\n",
       "        <td>lake</td>\n",
       "        <td>sal</td>\n",
       "    </tr>\n",
       "    <tr>\n",
       "        <td>752</td>\n",
       "        <td>lake</td>\n",
       "        <td>temp</td>\n",
       "    </tr>\n",
       "    <tr>\n",
       "        <td>837</td>\n",
       "        <td>roe</td>\n",
       "        <td>sal</td>\n",
       "    </tr>\n",
       "    <tr>\n",
       "        <td>837</td>\n",
       "        <td>lake</td>\n",
       "        <td>rad</td>\n",
       "    </tr>\n",
       "    <tr>\n",
       "        <td>837</td>\n",
       "        <td>lake</td>\n",
       "        <td>sal</td>\n",
       "    </tr>\n",
       "    <tr>\n",
       "        <td>844</td>\n",
       "        <td>roe</td>\n",
       "        <td>rad</td>\n",
       "    </tr>\n",
       "</table>"
      ],
      "text/plain": [
       "[(619, 'dyer', 'rad'),\n",
       " (619, 'dyer', 'sal'),\n",
       " (622, 'dyer', 'rad'),\n",
       " (622, 'dyer', 'sal'),\n",
       " (734, 'pb', 'rad'),\n",
       " (734, 'pb', 'temp'),\n",
       " (734, 'lake', 'sal'),\n",
       " (735, 'pb', 'rad'),\n",
       " (735, None, 'sal'),\n",
       " (735, None, 'temp'),\n",
       " (751, 'pb', 'rad'),\n",
       " (751, 'pb', 'temp'),\n",
       " (751, 'lake', 'sal'),\n",
       " (752, 'roe', 'sal'),\n",
       " (752, 'lake', 'rad'),\n",
       " (752, 'lake', 'sal'),\n",
       " (752, 'lake', 'temp'),\n",
       " (837, 'roe', 'sal'),\n",
       " (837, 'lake', 'rad'),\n",
       " (837, 'lake', 'sal'),\n",
       " (844, 'roe', 'rad')]"
      ]
     },
     "execution_count": 17,
     "metadata": {},
     "output_type": "execute_result"
    }
   ],
   "source": [
    "%%sql\n",
    "SELECT taken, person, quant FROM Survey\n",
    "ORDER BY taken ASC, person DESC;"
   ]
  },
  {
   "cell_type": "code",
   "execution_count": 18,
   "metadata": {},
   "outputs": [
    {
     "name": "stdout",
     "output_type": "stream",
     "text": [
      " * sqlite:///../data/survey.db\n",
      "Done.\n"
     ]
    },
    {
     "data": {
      "text/html": [
       "<table>\n",
       "    <tr>\n",
       "        <th>quant</th>\n",
       "        <th>person</th>\n",
       "    </tr>\n",
       "    <tr>\n",
       "        <td>rad</td>\n",
       "        <td>dyer</td>\n",
       "    </tr>\n",
       "    <tr>\n",
       "        <td>rad</td>\n",
       "        <td>pb</td>\n",
       "    </tr>\n",
       "    <tr>\n",
       "        <td>rad</td>\n",
       "        <td>lake</td>\n",
       "    </tr>\n",
       "    <tr>\n",
       "        <td>rad</td>\n",
       "        <td>roe</td>\n",
       "    </tr>\n",
       "    <tr>\n",
       "        <td>sal</td>\n",
       "        <td>dyer</td>\n",
       "    </tr>\n",
       "    <tr>\n",
       "        <td>sal</td>\n",
       "        <td>lake</td>\n",
       "    </tr>\n",
       "    <tr>\n",
       "        <td>sal</td>\n",
       "        <td>None</td>\n",
       "    </tr>\n",
       "    <tr>\n",
       "        <td>sal</td>\n",
       "        <td>roe</td>\n",
       "    </tr>\n",
       "    <tr>\n",
       "        <td>temp</td>\n",
       "        <td>pb</td>\n",
       "    </tr>\n",
       "    <tr>\n",
       "        <td>temp</td>\n",
       "        <td>None</td>\n",
       "    </tr>\n",
       "    <tr>\n",
       "        <td>temp</td>\n",
       "        <td>lake</td>\n",
       "    </tr>\n",
       "</table>"
      ],
      "text/plain": [
       "[('rad', 'dyer'),\n",
       " ('rad', 'pb'),\n",
       " ('rad', 'lake'),\n",
       " ('rad', 'roe'),\n",
       " ('sal', 'dyer'),\n",
       " ('sal', 'lake'),\n",
       " ('sal', None),\n",
       " ('sal', 'roe'),\n",
       " ('temp', 'pb'),\n",
       " ('temp', None),\n",
       " ('temp', 'lake')]"
      ]
     },
     "execution_count": 18,
     "metadata": {},
     "output_type": "execute_result"
    }
   ],
   "source": [
    "%%sql\n",
    "SELECT DISTINCT quant, person FROM SURVEY\n",
    "ORDER BY quant ASC;"
   ]
  },
  {
   "cell_type": "markdown",
   "metadata": {},
   "source": [
    "#### Exercise: Selecting distinct dates from the Visited table?"
   ]
  },
  {
   "cell_type": "code",
   "execution_count": 22,
   "metadata": {},
   "outputs": [
    {
     "name": "stdout",
     "output_type": "stream",
     "text": [
      " * sqlite:///../data/survey.db\n",
      "Done.\n"
     ]
    },
    {
     "data": {
      "text/html": [
       "<table>\n",
       "    <tr>\n",
       "        <th>dated</th>\n",
       "    </tr>\n",
       "    <tr>\n",
       "        <td>1927-02-08</td>\n",
       "    </tr>\n",
       "    <tr>\n",
       "        <td>1927-02-10</td>\n",
       "    </tr>\n",
       "    <tr>\n",
       "        <td>1930-01-07</td>\n",
       "    </tr>\n",
       "    <tr>\n",
       "        <td>1930-01-12</td>\n",
       "    </tr>\n",
       "    <tr>\n",
       "        <td>1930-02-26</td>\n",
       "    </tr>\n",
       "    <tr>\n",
       "        <td>None</td>\n",
       "    </tr>\n",
       "    <tr>\n",
       "        <td>1932-01-14</td>\n",
       "    </tr>\n",
       "    <tr>\n",
       "        <td>1932-03-22</td>\n",
       "    </tr>\n",
       "</table>"
      ],
      "text/plain": [
       "[('1927-02-08',),\n",
       " ('1927-02-10',),\n",
       " ('1930-01-07',),\n",
       " ('1930-01-12',),\n",
       " ('1930-02-26',),\n",
       " (None,),\n",
       " ('1932-01-14',),\n",
       " ('1932-03-22',)]"
      ]
     },
     "execution_count": 22,
     "metadata": {},
     "output_type": "execute_result"
    }
   ],
   "source": [
    "%sql SELECT DISTINCT dated FROM Visited;"
   ]
  },
  {
   "cell_type": "markdown",
   "metadata": {},
   "source": [
    "#### If two missing values in a table are they treated as distinct?"
   ]
  },
  {
   "cell_type": "code",
   "execution_count": 23,
   "metadata": {},
   "outputs": [
    {
     "name": "stdout",
     "output_type": "stream",
     "text": [
      " * sqlite:///../data/survey.db\n",
      "Done.\n"
     ]
    },
    {
     "data": {
      "text/html": [
       "<table>\n",
       "    <tr>\n",
       "        <th>person</th>\n",
       "    </tr>\n",
       "    <tr>\n",
       "        <td>dyer</td>\n",
       "    </tr>\n",
       "    <tr>\n",
       "        <td>dyer</td>\n",
       "    </tr>\n",
       "    <tr>\n",
       "        <td>dyer</td>\n",
       "    </tr>\n",
       "    <tr>\n",
       "        <td>dyer</td>\n",
       "    </tr>\n",
       "    <tr>\n",
       "        <td>pb</td>\n",
       "    </tr>\n",
       "    <tr>\n",
       "        <td>lake</td>\n",
       "    </tr>\n",
       "    <tr>\n",
       "        <td>pb</td>\n",
       "    </tr>\n",
       "    <tr>\n",
       "        <td>pb</td>\n",
       "    </tr>\n",
       "    <tr>\n",
       "        <td>None</td>\n",
       "    </tr>\n",
       "    <tr>\n",
       "        <td>None</td>\n",
       "    </tr>\n",
       "    <tr>\n",
       "        <td>pb</td>\n",
       "    </tr>\n",
       "    <tr>\n",
       "        <td>pb</td>\n",
       "    </tr>\n",
       "    <tr>\n",
       "        <td>lake</td>\n",
       "    </tr>\n",
       "    <tr>\n",
       "        <td>lake</td>\n",
       "    </tr>\n",
       "    <tr>\n",
       "        <td>lake</td>\n",
       "    </tr>\n",
       "    <tr>\n",
       "        <td>lake</td>\n",
       "    </tr>\n",
       "    <tr>\n",
       "        <td>roe</td>\n",
       "    </tr>\n",
       "    <tr>\n",
       "        <td>lake</td>\n",
       "    </tr>\n",
       "    <tr>\n",
       "        <td>lake</td>\n",
       "    </tr>\n",
       "    <tr>\n",
       "        <td>roe</td>\n",
       "    </tr>\n",
       "    <tr>\n",
       "        <td>roe</td>\n",
       "    </tr>\n",
       "</table>"
      ],
      "text/plain": [
       "[('dyer',),\n",
       " ('dyer',),\n",
       " ('dyer',),\n",
       " ('dyer',),\n",
       " ('pb',),\n",
       " ('lake',),\n",
       " ('pb',),\n",
       " ('pb',),\n",
       " (None,),\n",
       " (None,),\n",
       " ('pb',),\n",
       " ('pb',),\n",
       " ('lake',),\n",
       " ('lake',),\n",
       " ('lake',),\n",
       " ('lake',),\n",
       " ('roe',),\n",
       " ('lake',),\n",
       " ('lake',),\n",
       " ('roe',),\n",
       " ('roe',)]"
      ]
     },
     "execution_count": 23,
     "metadata": {},
     "output_type": "execute_result"
    }
   ],
   "source": [
    "%sql SELECT person FROM Survey;"
   ]
  },
  {
   "cell_type": "code",
   "execution_count": 24,
   "metadata": {},
   "outputs": [
    {
     "name": "stdout",
     "output_type": "stream",
     "text": [
      " * sqlite:///../data/survey.db\n",
      "Done.\n"
     ]
    },
    {
     "data": {
      "text/html": [
       "<table>\n",
       "    <tr>\n",
       "        <th>person</th>\n",
       "    </tr>\n",
       "    <tr>\n",
       "        <td>dyer</td>\n",
       "    </tr>\n",
       "    <tr>\n",
       "        <td>pb</td>\n",
       "    </tr>\n",
       "    <tr>\n",
       "        <td>lake</td>\n",
       "    </tr>\n",
       "    <tr>\n",
       "        <td>None</td>\n",
       "    </tr>\n",
       "    <tr>\n",
       "        <td>roe</td>\n",
       "    </tr>\n",
       "</table>"
      ],
      "text/plain": [
       "[('dyer',), ('pb',), ('lake',), (None,), ('roe',)]"
      ]
     },
     "execution_count": 24,
     "metadata": {},
     "output_type": "execute_result"
    }
   ],
   "source": [
    "%sql SELECT DISTINCT person FROM Survey;"
   ]
  },
  {
   "cell_type": "markdown",
   "metadata": {},
   "source": [
    "## Filtering"
   ]
  },
  {
   "cell_type": "code",
   "execution_count": 25,
   "metadata": {},
   "outputs": [
    {
     "name": "stdout",
     "output_type": "stream",
     "text": [
      " * sqlite:///../data/survey.db\n",
      "Done.\n"
     ]
    },
    {
     "data": {
      "text/html": [
       "<table>\n",
       "    <tr>\n",
       "        <th>id</th>\n",
       "        <th>site</th>\n",
       "        <th>dated</th>\n",
       "    </tr>\n",
       "    <tr>\n",
       "        <td>619</td>\n",
       "        <td>DR-1</td>\n",
       "        <td>1927-02-08</td>\n",
       "    </tr>\n",
       "    <tr>\n",
       "        <td>622</td>\n",
       "        <td>DR-1</td>\n",
       "        <td>1927-02-10</td>\n",
       "    </tr>\n",
       "    <tr>\n",
       "        <td>844</td>\n",
       "        <td>DR-1</td>\n",
       "        <td>1932-03-22</td>\n",
       "    </tr>\n",
       "</table>"
      ],
      "text/plain": [
       "[(619, 'DR-1', '1927-02-08'),\n",
       " (622, 'DR-1', '1927-02-10'),\n",
       " (844, 'DR-1', '1932-03-22')]"
      ]
     },
     "execution_count": 25,
     "metadata": {},
     "output_type": "execute_result"
    }
   ],
   "source": [
    "%%sql\n",
    "SELECT * FROM Visited\n",
    "WHERE site = 'DR-1';"
   ]
  },
  {
   "cell_type": "code",
   "execution_count": 26,
   "metadata": {},
   "outputs": [
    {
     "name": "stdout",
     "output_type": "stream",
     "text": [
      " * sqlite:///../data/survey.db\n",
      "Done.\n"
     ]
    },
    {
     "data": {
      "text/html": [
       "<table>\n",
       "    <tr>\n",
       "        <th>id</th>\n",
       "    </tr>\n",
       "    <tr>\n",
       "        <td>619</td>\n",
       "    </tr>\n",
       "    <tr>\n",
       "        <td>622</td>\n",
       "    </tr>\n",
       "    <tr>\n",
       "        <td>844</td>\n",
       "    </tr>\n",
       "</table>"
      ],
      "text/plain": [
       "[(619,), (622,), (844,)]"
      ]
     },
     "execution_count": 26,
     "metadata": {},
     "output_type": "execute_result"
    }
   ],
   "source": [
    "%%sql\n",
    "SELECT id FROM Visited\n",
    "WHERE site = 'DR-1';"
   ]
  },
  {
   "cell_type": "code",
   "execution_count": 27,
   "metadata": {},
   "outputs": [
    {
     "name": "stdout",
     "output_type": "stream",
     "text": [
      " * sqlite:///../data/survey.db\n",
      "Done.\n"
     ]
    },
    {
     "data": {
      "text/html": [
       "<table>\n",
       "    <tr>\n",
       "        <th>id</th>\n",
       "        <th>site</th>\n",
       "        <th>dated</th>\n",
       "    </tr>\n",
       "    <tr>\n",
       "        <td>619</td>\n",
       "        <td>DR-1</td>\n",
       "        <td>1927-02-08</td>\n",
       "    </tr>\n",
       "    <tr>\n",
       "        <td>622</td>\n",
       "        <td>DR-1</td>\n",
       "        <td>1927-02-10</td>\n",
       "    </tr>\n",
       "</table>"
      ],
      "text/plain": [
       "[(619, 'DR-1', '1927-02-08'), (622, 'DR-1', '1927-02-10')]"
      ]
     },
     "execution_count": 27,
     "metadata": {},
     "output_type": "execute_result"
    }
   ],
   "source": [
    "%%sql\n",
    "SELECT * FROM Visited\n",
    "WHERE site = 'DR-1' AND dated < '1930-01-01';"
   ]
  },
  {
   "cell_type": "code",
   "execution_count": 28,
   "metadata": {},
   "outputs": [
    {
     "name": "stdout",
     "output_type": "stream",
     "text": [
      " * sqlite:///../data/survey.db\n",
      "Done.\n"
     ]
    },
    {
     "data": {
      "text/html": [
       "<table>\n",
       "    <tr>\n",
       "        <th>taken</th>\n",
       "        <th>person</th>\n",
       "        <th>quant</th>\n",
       "        <th>reading</th>\n",
       "    </tr>\n",
       "    <tr>\n",
       "        <td>734</td>\n",
       "        <td>lake</td>\n",
       "        <td>sal</td>\n",
       "        <td>0.05</td>\n",
       "    </tr>\n",
       "    <tr>\n",
       "        <td>751</td>\n",
       "        <td>lake</td>\n",
       "        <td>sal</td>\n",
       "        <td>0.1</td>\n",
       "    </tr>\n",
       "    <tr>\n",
       "        <td>752</td>\n",
       "        <td>lake</td>\n",
       "        <td>rad</td>\n",
       "        <td>2.19</td>\n",
       "    </tr>\n",
       "    <tr>\n",
       "        <td>752</td>\n",
       "        <td>lake</td>\n",
       "        <td>sal</td>\n",
       "        <td>0.09</td>\n",
       "    </tr>\n",
       "    <tr>\n",
       "        <td>752</td>\n",
       "        <td>lake</td>\n",
       "        <td>temp</td>\n",
       "        <td>-16.0</td>\n",
       "    </tr>\n",
       "    <tr>\n",
       "        <td>752</td>\n",
       "        <td>roe</td>\n",
       "        <td>sal</td>\n",
       "        <td>41.6</td>\n",
       "    </tr>\n",
       "    <tr>\n",
       "        <td>837</td>\n",
       "        <td>lake</td>\n",
       "        <td>rad</td>\n",
       "        <td>1.46</td>\n",
       "    </tr>\n",
       "    <tr>\n",
       "        <td>837</td>\n",
       "        <td>lake</td>\n",
       "        <td>sal</td>\n",
       "        <td>0.21</td>\n",
       "    </tr>\n",
       "    <tr>\n",
       "        <td>837</td>\n",
       "        <td>roe</td>\n",
       "        <td>sal</td>\n",
       "        <td>22.5</td>\n",
       "    </tr>\n",
       "    <tr>\n",
       "        <td>844</td>\n",
       "        <td>roe</td>\n",
       "        <td>rad</td>\n",
       "        <td>11.25</td>\n",
       "    </tr>\n",
       "</table>"
      ],
      "text/plain": [
       "[(734, 'lake', 'sal', 0.05),\n",
       " (751, 'lake', 'sal', 0.1),\n",
       " (752, 'lake', 'rad', 2.19),\n",
       " (752, 'lake', 'sal', 0.09),\n",
       " (752, 'lake', 'temp', -16.0),\n",
       " (752, 'roe', 'sal', 41.6),\n",
       " (837, 'lake', 'rad', 1.46),\n",
       " (837, 'lake', 'sal', 0.21),\n",
       " (837, 'roe', 'sal', 22.5),\n",
       " (844, 'roe', 'rad', 11.25)]"
      ]
     },
     "execution_count": 28,
     "metadata": {},
     "output_type": "execute_result"
    }
   ],
   "source": [
    "%%sql\n",
    "SELECT * FROM Survey\n",
    "WHERE person = 'lake' OR person = 'roe';"
   ]
  },
  {
   "cell_type": "code",
   "execution_count": 29,
   "metadata": {},
   "outputs": [
    {
     "name": "stdout",
     "output_type": "stream",
     "text": [
      " * sqlite:///../data/survey.db\n",
      "Done.\n"
     ]
    },
    {
     "data": {
      "text/html": [
       "<table>\n",
       "    <tr>\n",
       "        <th>taken</th>\n",
       "        <th>person</th>\n",
       "        <th>quant</th>\n",
       "        <th>reading</th>\n",
       "    </tr>\n",
       "    <tr>\n",
       "        <td>734</td>\n",
       "        <td>lake</td>\n",
       "        <td>sal</td>\n",
       "        <td>0.05</td>\n",
       "    </tr>\n",
       "    <tr>\n",
       "        <td>751</td>\n",
       "        <td>lake</td>\n",
       "        <td>sal</td>\n",
       "        <td>0.1</td>\n",
       "    </tr>\n",
       "    <tr>\n",
       "        <td>752</td>\n",
       "        <td>lake</td>\n",
       "        <td>rad</td>\n",
       "        <td>2.19</td>\n",
       "    </tr>\n",
       "    <tr>\n",
       "        <td>752</td>\n",
       "        <td>lake</td>\n",
       "        <td>sal</td>\n",
       "        <td>0.09</td>\n",
       "    </tr>\n",
       "    <tr>\n",
       "        <td>752</td>\n",
       "        <td>lake</td>\n",
       "        <td>temp</td>\n",
       "        <td>-16.0</td>\n",
       "    </tr>\n",
       "    <tr>\n",
       "        <td>752</td>\n",
       "        <td>roe</td>\n",
       "        <td>sal</td>\n",
       "        <td>41.6</td>\n",
       "    </tr>\n",
       "    <tr>\n",
       "        <td>837</td>\n",
       "        <td>lake</td>\n",
       "        <td>rad</td>\n",
       "        <td>1.46</td>\n",
       "    </tr>\n",
       "    <tr>\n",
       "        <td>837</td>\n",
       "        <td>lake</td>\n",
       "        <td>sal</td>\n",
       "        <td>0.21</td>\n",
       "    </tr>\n",
       "    <tr>\n",
       "        <td>837</td>\n",
       "        <td>roe</td>\n",
       "        <td>sal</td>\n",
       "        <td>22.5</td>\n",
       "    </tr>\n",
       "    <tr>\n",
       "        <td>844</td>\n",
       "        <td>roe</td>\n",
       "        <td>rad</td>\n",
       "        <td>11.25</td>\n",
       "    </tr>\n",
       "</table>"
      ],
      "text/plain": [
       "[(734, 'lake', 'sal', 0.05),\n",
       " (751, 'lake', 'sal', 0.1),\n",
       " (752, 'lake', 'rad', 2.19),\n",
       " (752, 'lake', 'sal', 0.09),\n",
       " (752, 'lake', 'temp', -16.0),\n",
       " (752, 'roe', 'sal', 41.6),\n",
       " (837, 'lake', 'rad', 1.46),\n",
       " (837, 'lake', 'sal', 0.21),\n",
       " (837, 'roe', 'sal', 22.5),\n",
       " (844, 'roe', 'rad', 11.25)]"
      ]
     },
     "execution_count": 29,
     "metadata": {},
     "output_type": "execute_result"
    }
   ],
   "source": [
    "%%sql\n",
    "SELECT * FROM Survey\n",
    "WHERE person IN ('lake', 'roe');"
   ]
  },
  {
   "cell_type": "code",
   "execution_count": 30,
   "metadata": {},
   "outputs": [
    {
     "name": "stdout",
     "output_type": "stream",
     "text": [
      " * sqlite:///../data/survey.db\n",
      "Done.\n"
     ]
    },
    {
     "data": {
      "text/html": [
       "<table>\n",
       "    <tr>\n",
       "        <th>taken</th>\n",
       "        <th>person</th>\n",
       "        <th>quant</th>\n",
       "        <th>reading</th>\n",
       "    </tr>\n",
       "    <tr>\n",
       "        <td>734</td>\n",
       "        <td>lake</td>\n",
       "        <td>sal</td>\n",
       "        <td>0.05</td>\n",
       "    </tr>\n",
       "    <tr>\n",
       "        <td>751</td>\n",
       "        <td>lake</td>\n",
       "        <td>sal</td>\n",
       "        <td>0.1</td>\n",
       "    </tr>\n",
       "    <tr>\n",
       "        <td>752</td>\n",
       "        <td>lake</td>\n",
       "        <td>sal</td>\n",
       "        <td>0.09</td>\n",
       "    </tr>\n",
       "    <tr>\n",
       "        <td>752</td>\n",
       "        <td>roe</td>\n",
       "        <td>sal</td>\n",
       "        <td>41.6</td>\n",
       "    </tr>\n",
       "    <tr>\n",
       "        <td>837</td>\n",
       "        <td>lake</td>\n",
       "        <td>sal</td>\n",
       "        <td>0.21</td>\n",
       "    </tr>\n",
       "    <tr>\n",
       "        <td>837</td>\n",
       "        <td>roe</td>\n",
       "        <td>sal</td>\n",
       "        <td>22.5</td>\n",
       "    </tr>\n",
       "    <tr>\n",
       "        <td>844</td>\n",
       "        <td>roe</td>\n",
       "        <td>rad</td>\n",
       "        <td>11.25</td>\n",
       "    </tr>\n",
       "</table>"
      ],
      "text/plain": [
       "[(734, 'lake', 'sal', 0.05),\n",
       " (751, 'lake', 'sal', 0.1),\n",
       " (752, 'lake', 'sal', 0.09),\n",
       " (752, 'roe', 'sal', 41.6),\n",
       " (837, 'lake', 'sal', 0.21),\n",
       " (837, 'roe', 'sal', 22.5),\n",
       " (844, 'roe', 'rad', 11.25)]"
      ]
     },
     "execution_count": 30,
     "metadata": {},
     "output_type": "execute_result"
    }
   ],
   "source": [
    "%%sql\n",
    "SELECT * FROM Survey\n",
    "WHERE quant = 'sal' AND person = 'lake' OR person = 'roe';"
   ]
  },
  {
   "cell_type": "code",
   "execution_count": 31,
   "metadata": {},
   "outputs": [
    {
     "name": "stdout",
     "output_type": "stream",
     "text": [
      " * sqlite:///../data/survey.db\n",
      "Done.\n"
     ]
    },
    {
     "data": {
      "text/html": [
       "<table>\n",
       "    <tr>\n",
       "        <th>taken</th>\n",
       "        <th>person</th>\n",
       "        <th>quant</th>\n",
       "        <th>reading</th>\n",
       "    </tr>\n",
       "    <tr>\n",
       "        <td>734</td>\n",
       "        <td>lake</td>\n",
       "        <td>sal</td>\n",
       "        <td>0.05</td>\n",
       "    </tr>\n",
       "    <tr>\n",
       "        <td>751</td>\n",
       "        <td>lake</td>\n",
       "        <td>sal</td>\n",
       "        <td>0.1</td>\n",
       "    </tr>\n",
       "    <tr>\n",
       "        <td>752</td>\n",
       "        <td>lake</td>\n",
       "        <td>sal</td>\n",
       "        <td>0.09</td>\n",
       "    </tr>\n",
       "    <tr>\n",
       "        <td>752</td>\n",
       "        <td>roe</td>\n",
       "        <td>sal</td>\n",
       "        <td>41.6</td>\n",
       "    </tr>\n",
       "    <tr>\n",
       "        <td>837</td>\n",
       "        <td>lake</td>\n",
       "        <td>sal</td>\n",
       "        <td>0.21</td>\n",
       "    </tr>\n",
       "    <tr>\n",
       "        <td>837</td>\n",
       "        <td>roe</td>\n",
       "        <td>sal</td>\n",
       "        <td>22.5</td>\n",
       "    </tr>\n",
       "</table>"
      ],
      "text/plain": [
       "[(734, 'lake', 'sal', 0.05),\n",
       " (751, 'lake', 'sal', 0.1),\n",
       " (752, 'lake', 'sal', 0.09),\n",
       " (752, 'roe', 'sal', 41.6),\n",
       " (837, 'lake', 'sal', 0.21),\n",
       " (837, 'roe', 'sal', 22.5)]"
      ]
     },
     "execution_count": 31,
     "metadata": {},
     "output_type": "execute_result"
    }
   ],
   "source": [
    "%%sql\n",
    "SELECT * FROM Survey\n",
    "WHERE quant = 'sal' AND (person = 'lake' OR person = 'roe');"
   ]
  },
  {
   "cell_type": "code",
   "execution_count": 32,
   "metadata": {},
   "outputs": [
    {
     "name": "stdout",
     "output_type": "stream",
     "text": [
      " * sqlite:///../data/survey.db\n",
      "Done.\n"
     ]
    },
    {
     "data": {
      "text/html": [
       "<table>\n",
       "    <tr>\n",
       "        <th>id</th>\n",
       "        <th>site</th>\n",
       "        <th>dated</th>\n",
       "    </tr>\n",
       "    <tr>\n",
       "        <td>619</td>\n",
       "        <td>DR-1</td>\n",
       "        <td>1927-02-08</td>\n",
       "    </tr>\n",
       "    <tr>\n",
       "        <td>622</td>\n",
       "        <td>DR-1</td>\n",
       "        <td>1927-02-10</td>\n",
       "    </tr>\n",
       "    <tr>\n",
       "        <td>734</td>\n",
       "        <td>DR-3</td>\n",
       "        <td>1930-01-07</td>\n",
       "    </tr>\n",
       "    <tr>\n",
       "        <td>735</td>\n",
       "        <td>DR-3</td>\n",
       "        <td>1930-01-12</td>\n",
       "    </tr>\n",
       "    <tr>\n",
       "        <td>751</td>\n",
       "        <td>DR-3</td>\n",
       "        <td>1930-02-26</td>\n",
       "    </tr>\n",
       "    <tr>\n",
       "        <td>752</td>\n",
       "        <td>DR-3</td>\n",
       "        <td>None</td>\n",
       "    </tr>\n",
       "    <tr>\n",
       "        <td>837</td>\n",
       "        <td>MSK-4</td>\n",
       "        <td>1932-01-14</td>\n",
       "    </tr>\n",
       "    <tr>\n",
       "        <td>844</td>\n",
       "        <td>DR-1</td>\n",
       "        <td>1932-03-22</td>\n",
       "    </tr>\n",
       "</table>"
      ],
      "text/plain": [
       "[(619, 'DR-1', '1927-02-08'),\n",
       " (622, 'DR-1', '1927-02-10'),\n",
       " (734, 'DR-3', '1930-01-07'),\n",
       " (735, 'DR-3', '1930-01-12'),\n",
       " (751, 'DR-3', '1930-02-26'),\n",
       " (752, 'DR-3', None),\n",
       " (837, 'MSK-4', '1932-01-14'),\n",
       " (844, 'DR-1', '1932-03-22')]"
      ]
     },
     "execution_count": 32,
     "metadata": {},
     "output_type": "execute_result"
    }
   ],
   "source": [
    "%%sql\n",
    "SELECT * FROM Visited;"
   ]
  },
  {
   "cell_type": "code",
   "execution_count": 33,
   "metadata": {},
   "outputs": [
    {
     "name": "stdout",
     "output_type": "stream",
     "text": [
      " * sqlite:///../data/survey.db\n",
      "Done.\n"
     ]
    },
    {
     "data": {
      "text/html": [
       "<table>\n",
       "    <tr>\n",
       "        <th>id</th>\n",
       "        <th>site</th>\n",
       "        <th>dated</th>\n",
       "    </tr>\n",
       "    <tr>\n",
       "        <td>619</td>\n",
       "        <td>DR-1</td>\n",
       "        <td>1927-02-08</td>\n",
       "    </tr>\n",
       "    <tr>\n",
       "        <td>622</td>\n",
       "        <td>DR-1</td>\n",
       "        <td>1927-02-10</td>\n",
       "    </tr>\n",
       "    <tr>\n",
       "        <td>734</td>\n",
       "        <td>DR-3</td>\n",
       "        <td>1930-01-07</td>\n",
       "    </tr>\n",
       "    <tr>\n",
       "        <td>735</td>\n",
       "        <td>DR-3</td>\n",
       "        <td>1930-01-12</td>\n",
       "    </tr>\n",
       "    <tr>\n",
       "        <td>751</td>\n",
       "        <td>DR-3</td>\n",
       "        <td>1930-02-26</td>\n",
       "    </tr>\n",
       "    <tr>\n",
       "        <td>752</td>\n",
       "        <td>DR-3</td>\n",
       "        <td>None</td>\n",
       "    </tr>\n",
       "    <tr>\n",
       "        <td>844</td>\n",
       "        <td>DR-1</td>\n",
       "        <td>1932-03-22</td>\n",
       "    </tr>\n",
       "</table>"
      ],
      "text/plain": [
       "[(619, 'DR-1', '1927-02-08'),\n",
       " (622, 'DR-1', '1927-02-10'),\n",
       " (734, 'DR-3', '1930-01-07'),\n",
       " (735, 'DR-3', '1930-01-12'),\n",
       " (751, 'DR-3', '1930-02-26'),\n",
       " (752, 'DR-3', None),\n",
       " (844, 'DR-1', '1932-03-22')]"
      ]
     },
     "execution_count": 33,
     "metadata": {},
     "output_type": "execute_result"
    }
   ],
   "source": [
    "%%sql\n",
    "SELECT * FROM Visited\n",
    "WHERE site = 'DR-1' OR site = 'DR-3';"
   ]
  },
  {
   "cell_type": "code",
   "execution_count": 34,
   "metadata": {},
   "outputs": [
    {
     "name": "stdout",
     "output_type": "stream",
     "text": [
      " * sqlite:///../data/survey.db\n",
      "Done.\n"
     ]
    },
    {
     "data": {
      "text/html": [
       "<table>\n",
       "    <tr>\n",
       "        <th>id</th>\n",
       "        <th>site</th>\n",
       "        <th>dated</th>\n",
       "    </tr>\n",
       "    <tr>\n",
       "        <td>619</td>\n",
       "        <td>DR-1</td>\n",
       "        <td>1927-02-08</td>\n",
       "    </tr>\n",
       "    <tr>\n",
       "        <td>622</td>\n",
       "        <td>DR-1</td>\n",
       "        <td>1927-02-10</td>\n",
       "    </tr>\n",
       "    <tr>\n",
       "        <td>734</td>\n",
       "        <td>DR-3</td>\n",
       "        <td>1930-01-07</td>\n",
       "    </tr>\n",
       "    <tr>\n",
       "        <td>735</td>\n",
       "        <td>DR-3</td>\n",
       "        <td>1930-01-12</td>\n",
       "    </tr>\n",
       "    <tr>\n",
       "        <td>751</td>\n",
       "        <td>DR-3</td>\n",
       "        <td>1930-02-26</td>\n",
       "    </tr>\n",
       "    <tr>\n",
       "        <td>752</td>\n",
       "        <td>DR-3</td>\n",
       "        <td>None</td>\n",
       "    </tr>\n",
       "    <tr>\n",
       "        <td>844</td>\n",
       "        <td>DR-1</td>\n",
       "        <td>1932-03-22</td>\n",
       "    </tr>\n",
       "</table>"
      ],
      "text/plain": [
       "[(619, 'DR-1', '1927-02-08'),\n",
       " (622, 'DR-1', '1927-02-10'),\n",
       " (734, 'DR-3', '1930-01-07'),\n",
       " (735, 'DR-3', '1930-01-12'),\n",
       " (751, 'DR-3', '1930-02-26'),\n",
       " (752, 'DR-3', None),\n",
       " (844, 'DR-1', '1932-03-22')]"
      ]
     },
     "execution_count": 34,
     "metadata": {},
     "output_type": "execute_result"
    }
   ],
   "source": [
    "%%sql\n",
    "SELECT * FROM Visited\n",
    "WHERE site LIKE 'DR%';"
   ]
  },
  {
   "cell_type": "markdown",
   "metadata": {},
   "source": [
    "#### How to select all persons from survey that start with 'l' and end with 'e'? "
   ]
  },
  {
   "cell_type": "code",
   "execution_count": 42,
   "metadata": {},
   "outputs": [
    {
     "name": "stdout",
     "output_type": "stream",
     "text": [
      " * sqlite:///../data/survey.db\n",
      "Done.\n"
     ]
    },
    {
     "data": {
      "text/html": [
       "<table>\n",
       "    <tr>\n",
       "        <th>taken</th>\n",
       "        <th>person</th>\n",
       "        <th>quant</th>\n",
       "        <th>reading</th>\n",
       "    </tr>\n",
       "    <tr>\n",
       "        <td>734</td>\n",
       "        <td>lake</td>\n",
       "        <td>sal</td>\n",
       "        <td>0.05</td>\n",
       "    </tr>\n",
       "    <tr>\n",
       "        <td>751</td>\n",
       "        <td>lake</td>\n",
       "        <td>sal</td>\n",
       "        <td>0.1</td>\n",
       "    </tr>\n",
       "    <tr>\n",
       "        <td>752</td>\n",
       "        <td>lake</td>\n",
       "        <td>rad</td>\n",
       "        <td>2.19</td>\n",
       "    </tr>\n",
       "    <tr>\n",
       "        <td>752</td>\n",
       "        <td>lake</td>\n",
       "        <td>sal</td>\n",
       "        <td>0.09</td>\n",
       "    </tr>\n",
       "    <tr>\n",
       "        <td>752</td>\n",
       "        <td>lake</td>\n",
       "        <td>temp</td>\n",
       "        <td>-16.0</td>\n",
       "    </tr>\n",
       "    <tr>\n",
       "        <td>837</td>\n",
       "        <td>lake</td>\n",
       "        <td>rad</td>\n",
       "        <td>1.46</td>\n",
       "    </tr>\n",
       "    <tr>\n",
       "        <td>837</td>\n",
       "        <td>lake</td>\n",
       "        <td>sal</td>\n",
       "        <td>0.21</td>\n",
       "    </tr>\n",
       "</table>"
      ],
      "text/plain": [
       "[(734, 'lake', 'sal', 0.05),\n",
       " (751, 'lake', 'sal', 0.1),\n",
       " (752, 'lake', 'rad', 2.19),\n",
       " (752, 'lake', 'sal', 0.09),\n",
       " (752, 'lake', 'temp', -16.0),\n",
       " (837, 'lake', 'rad', 1.46),\n",
       " (837, 'lake', 'sal', 0.21)]"
      ]
     },
     "execution_count": 42,
     "metadata": {},
     "output_type": "execute_result"
    }
   ],
   "source": [
    "%%sql\n",
    "SELECT * FROM Survey\n",
    "WHERE person LIKE 'l%e';"
   ]
  },
  {
   "cell_type": "code",
   "execution_count": 44,
   "metadata": {},
   "outputs": [
    {
     "name": "stdout",
     "output_type": "stream",
     "text": [
      " * sqlite:///../data/survey.db\n",
      "Done.\n"
     ]
    },
    {
     "data": {
      "text/html": [
       "<table>\n",
       "    <tr>\n",
       "        <th>person</th>\n",
       "        <th>quant</th>\n",
       "    </tr>\n",
       "    <tr>\n",
       "        <td>lake</td>\n",
       "        <td>sal</td>\n",
       "    </tr>\n",
       "    <tr>\n",
       "        <td>lake</td>\n",
       "        <td>rad</td>\n",
       "    </tr>\n",
       "    <tr>\n",
       "        <td>lake</td>\n",
       "        <td>temp</td>\n",
       "    </tr>\n",
       "    <tr>\n",
       "        <td>roe</td>\n",
       "        <td>sal</td>\n",
       "    </tr>\n",
       "    <tr>\n",
       "        <td>roe</td>\n",
       "        <td>rad</td>\n",
       "    </tr>\n",
       "</table>"
      ],
      "text/plain": [
       "[('lake', 'sal'),\n",
       " ('lake', 'rad'),\n",
       " ('lake', 'temp'),\n",
       " ('roe', 'sal'),\n",
       " ('roe', 'rad')]"
      ]
     },
     "execution_count": 44,
     "metadata": {},
     "output_type": "execute_result"
    }
   ],
   "source": [
    "%%sql\n",
    "SELECT DISTINCT person, quant FROM Survey\n",
    "WHERE person IN ('lake', 'roe');"
   ]
  },
  {
   "cell_type": "markdown",
   "metadata": {},
   "source": [
    "If you break the above query into stages of execution it would have the following three stages..."
   ]
  },
  {
   "cell_type": "code",
   "execution_count": 45,
   "metadata": {},
   "outputs": [
    {
     "name": "stdout",
     "output_type": "stream",
     "text": [
      " * sqlite:///../data/survey.db\n",
      "Done.\n"
     ]
    },
    {
     "data": {
      "text/html": [
       "<table>\n",
       "    <tr>\n",
       "        <th>taken</th>\n",
       "        <th>person</th>\n",
       "        <th>quant</th>\n",
       "        <th>reading</th>\n",
       "    </tr>\n",
       "    <tr>\n",
       "        <td>734</td>\n",
       "        <td>lake</td>\n",
       "        <td>sal</td>\n",
       "        <td>0.05</td>\n",
       "    </tr>\n",
       "    <tr>\n",
       "        <td>751</td>\n",
       "        <td>lake</td>\n",
       "        <td>sal</td>\n",
       "        <td>0.1</td>\n",
       "    </tr>\n",
       "    <tr>\n",
       "        <td>752</td>\n",
       "        <td>lake</td>\n",
       "        <td>rad</td>\n",
       "        <td>2.19</td>\n",
       "    </tr>\n",
       "    <tr>\n",
       "        <td>752</td>\n",
       "        <td>lake</td>\n",
       "        <td>sal</td>\n",
       "        <td>0.09</td>\n",
       "    </tr>\n",
       "    <tr>\n",
       "        <td>752</td>\n",
       "        <td>lake</td>\n",
       "        <td>temp</td>\n",
       "        <td>-16.0</td>\n",
       "    </tr>\n",
       "    <tr>\n",
       "        <td>752</td>\n",
       "        <td>roe</td>\n",
       "        <td>sal</td>\n",
       "        <td>41.6</td>\n",
       "    </tr>\n",
       "    <tr>\n",
       "        <td>837</td>\n",
       "        <td>lake</td>\n",
       "        <td>rad</td>\n",
       "        <td>1.46</td>\n",
       "    </tr>\n",
       "    <tr>\n",
       "        <td>837</td>\n",
       "        <td>lake</td>\n",
       "        <td>sal</td>\n",
       "        <td>0.21</td>\n",
       "    </tr>\n",
       "    <tr>\n",
       "        <td>837</td>\n",
       "        <td>roe</td>\n",
       "        <td>sal</td>\n",
       "        <td>22.5</td>\n",
       "    </tr>\n",
       "    <tr>\n",
       "        <td>844</td>\n",
       "        <td>roe</td>\n",
       "        <td>rad</td>\n",
       "        <td>11.25</td>\n",
       "    </tr>\n",
       "</table>"
      ],
      "text/plain": [
       "[(734, 'lake', 'sal', 0.05),\n",
       " (751, 'lake', 'sal', 0.1),\n",
       " (752, 'lake', 'rad', 2.19),\n",
       " (752, 'lake', 'sal', 0.09),\n",
       " (752, 'lake', 'temp', -16.0),\n",
       " (752, 'roe', 'sal', 41.6),\n",
       " (837, 'lake', 'rad', 1.46),\n",
       " (837, 'lake', 'sal', 0.21),\n",
       " (837, 'roe', 'sal', 22.5),\n",
       " (844, 'roe', 'rad', 11.25)]"
      ]
     },
     "execution_count": 45,
     "metadata": {},
     "output_type": "execute_result"
    }
   ],
   "source": [
    "%%sql\n",
    "SELECT * FROM Survey\n",
    "WHERE person IN ('lake', 'roe');"
   ]
  },
  {
   "cell_type": "code",
   "execution_count": 46,
   "metadata": {},
   "outputs": [
    {
     "name": "stdout",
     "output_type": "stream",
     "text": [
      " * sqlite:///../data/survey.db\n",
      "Done.\n"
     ]
    },
    {
     "data": {
      "text/html": [
       "<table>\n",
       "    <tr>\n",
       "        <th>person</th>\n",
       "        <th>quant</th>\n",
       "    </tr>\n",
       "    <tr>\n",
       "        <td>lake</td>\n",
       "        <td>sal</td>\n",
       "    </tr>\n",
       "    <tr>\n",
       "        <td>lake</td>\n",
       "        <td>sal</td>\n",
       "    </tr>\n",
       "    <tr>\n",
       "        <td>lake</td>\n",
       "        <td>rad</td>\n",
       "    </tr>\n",
       "    <tr>\n",
       "        <td>lake</td>\n",
       "        <td>sal</td>\n",
       "    </tr>\n",
       "    <tr>\n",
       "        <td>lake</td>\n",
       "        <td>temp</td>\n",
       "    </tr>\n",
       "    <tr>\n",
       "        <td>roe</td>\n",
       "        <td>sal</td>\n",
       "    </tr>\n",
       "    <tr>\n",
       "        <td>lake</td>\n",
       "        <td>rad</td>\n",
       "    </tr>\n",
       "    <tr>\n",
       "        <td>lake</td>\n",
       "        <td>sal</td>\n",
       "    </tr>\n",
       "    <tr>\n",
       "        <td>roe</td>\n",
       "        <td>sal</td>\n",
       "    </tr>\n",
       "    <tr>\n",
       "        <td>roe</td>\n",
       "        <td>rad</td>\n",
       "    </tr>\n",
       "</table>"
      ],
      "text/plain": [
       "[('lake', 'sal'),\n",
       " ('lake', 'sal'),\n",
       " ('lake', 'rad'),\n",
       " ('lake', 'sal'),\n",
       " ('lake', 'temp'),\n",
       " ('roe', 'sal'),\n",
       " ('lake', 'rad'),\n",
       " ('lake', 'sal'),\n",
       " ('roe', 'sal'),\n",
       " ('roe', 'rad')]"
      ]
     },
     "execution_count": 46,
     "metadata": {},
     "output_type": "execute_result"
    }
   ],
   "source": [
    "%%sql\n",
    "SELECT person, quant FROM Survey\n",
    "WHERE person IN ('lake', 'roe');"
   ]
  },
  {
   "cell_type": "code",
   "execution_count": 47,
   "metadata": {},
   "outputs": [
    {
     "name": "stdout",
     "output_type": "stream",
     "text": [
      " * sqlite:///../data/survey.db\n",
      "Done.\n"
     ]
    },
    {
     "data": {
      "text/html": [
       "<table>\n",
       "    <tr>\n",
       "        <th>person</th>\n",
       "        <th>quant</th>\n",
       "    </tr>\n",
       "    <tr>\n",
       "        <td>lake</td>\n",
       "        <td>sal</td>\n",
       "    </tr>\n",
       "    <tr>\n",
       "        <td>lake</td>\n",
       "        <td>rad</td>\n",
       "    </tr>\n",
       "    <tr>\n",
       "        <td>lake</td>\n",
       "        <td>temp</td>\n",
       "    </tr>\n",
       "    <tr>\n",
       "        <td>roe</td>\n",
       "        <td>sal</td>\n",
       "    </tr>\n",
       "    <tr>\n",
       "        <td>roe</td>\n",
       "        <td>rad</td>\n",
       "    </tr>\n",
       "</table>"
      ],
      "text/plain": [
       "[('lake', 'sal'),\n",
       " ('lake', 'rad'),\n",
       " ('lake', 'temp'),\n",
       " ('roe', 'sal'),\n",
       " ('roe', 'rad')]"
      ]
     },
     "execution_count": 47,
     "metadata": {},
     "output_type": "execute_result"
    }
   ],
   "source": [
    "%%sql\n",
    "SELECT DISTINCT person, quant FROM Survey\n",
    "WHERE person IN ('lake', 'roe');"
   ]
  },
  {
   "cell_type": "markdown",
   "metadata": {},
   "source": [
    "## Calculating New Values"
   ]
  },
  {
   "cell_type": "code",
   "execution_count": 51,
   "metadata": {},
   "outputs": [
    {
     "name": "stdout",
     "output_type": "stream",
     "text": [
      " * sqlite:///../data/survey.db\n",
      "Done.\n"
     ]
    },
    {
     "data": {
      "text/html": [
       "<table>\n",
       "    <tr>\n",
       "        <th>1.05 * reading</th>\n",
       "    </tr>\n",
       "    <tr>\n",
       "        <td>10.311</td>\n",
       "    </tr>\n",
       "    <tr>\n",
       "        <td>8.19</td>\n",
       "    </tr>\n",
       "    <tr>\n",
       "        <td>8.8305</td>\n",
       "    </tr>\n",
       "    <tr>\n",
       "        <td>7.581</td>\n",
       "    </tr>\n",
       "    <tr>\n",
       "        <td>4.5675</td>\n",
       "    </tr>\n",
       "    <tr>\n",
       "        <td>2.2995</td>\n",
       "    </tr>\n",
       "    <tr>\n",
       "        <td>1.533</td>\n",
       "    </tr>\n",
       "    <tr>\n",
       "        <td>11.8125</td>\n",
       "    </tr>\n",
       "</table>"
      ],
      "text/plain": [
       "[(10.311,),\n",
       " (8.19,),\n",
       " (8.8305,),\n",
       " (7.581,),\n",
       " (4.5675,),\n",
       " (2.2995,),\n",
       " (1.533,),\n",
       " (11.8125,)]"
      ]
     },
     "execution_count": 51,
     "metadata": {},
     "output_type": "execute_result"
    }
   ],
   "source": [
    "%%sql\n",
    "SELECT 1.05 * reading FROM Survey\n",
    "WHERE quant = 'rad';"
   ]
  },
  {
   "cell_type": "code",
   "execution_count": 53,
   "metadata": {},
   "outputs": [
    {
     "name": "stdout",
     "output_type": "stream",
     "text": [
      " * sqlite:///../data/survey.db\n",
      "Done.\n"
     ]
    },
    {
     "data": {
      "text/html": [
       "<table>\n",
       "    <tr>\n",
       "        <th>taken</th>\n",
       "        <th>round(5 * (reading - 32) / 9, 2)</th>\n",
       "    </tr>\n",
       "    <tr>\n",
       "        <td>734</td>\n",
       "        <td>-29.72</td>\n",
       "    </tr>\n",
       "    <tr>\n",
       "        <td>735</td>\n",
       "        <td>-32.22</td>\n",
       "    </tr>\n",
       "    <tr>\n",
       "        <td>751</td>\n",
       "        <td>-28.06</td>\n",
       "    </tr>\n",
       "    <tr>\n",
       "        <td>752</td>\n",
       "        <td>-26.67</td>\n",
       "    </tr>\n",
       "</table>"
      ],
      "text/plain": [
       "[(734, -29.72), (735, -32.22), (751, -28.06), (752, -26.67)]"
      ]
     },
     "execution_count": 53,
     "metadata": {},
     "output_type": "execute_result"
    }
   ],
   "source": [
    "%%sql\n",
    "SELECT taken, round(5 * (reading - 32) / 9, 2) FROM Survey\n",
    "WHERE quant = 'temp';"
   ]
  },
  {
   "cell_type": "code",
   "execution_count": 54,
   "metadata": {},
   "outputs": [
    {
     "name": "stdout",
     "output_type": "stream",
     "text": [
      " * sqlite:///../data/survey.db\n",
      "Done.\n"
     ]
    },
    {
     "data": {
      "text/html": [
       "<table>\n",
       "    <tr>\n",
       "        <th>taken</th>\n",
       "        <th>celsius</th>\n",
       "    </tr>\n",
       "    <tr>\n",
       "        <td>734</td>\n",
       "        <td>-29.72</td>\n",
       "    </tr>\n",
       "    <tr>\n",
       "        <td>735</td>\n",
       "        <td>-32.22</td>\n",
       "    </tr>\n",
       "    <tr>\n",
       "        <td>751</td>\n",
       "        <td>-28.06</td>\n",
       "    </tr>\n",
       "    <tr>\n",
       "        <td>752</td>\n",
       "        <td>-26.67</td>\n",
       "    </tr>\n",
       "</table>"
      ],
      "text/plain": [
       "[(734, -29.72), (735, -32.22), (751, -28.06), (752, -26.67)]"
      ]
     },
     "execution_count": 54,
     "metadata": {},
     "output_type": "execute_result"
    }
   ],
   "source": [
    "%%sql\n",
    "SELECT taken, round(5 * (reading - 32) / 9, 2) AS celsius FROM Survey\n",
    "WHERE quant = 'temp';"
   ]
  },
  {
   "cell_type": "code",
   "execution_count": 59,
   "metadata": {},
   "outputs": [
    {
     "name": "stdout",
     "output_type": "stream",
     "text": [
      " * sqlite:///../data/survey.db\n",
      "Done.\n"
     ]
    },
    {
     "data": {
      "text/html": [
       "<table>\n",
       "    <tr>\n",
       "        <th>Full Name</th>\n",
       "    </tr>\n",
       "    <tr>\n",
       "        <td>William Dyer</td>\n",
       "    </tr>\n",
       "    <tr>\n",
       "        <td>Frank Pabodie</td>\n",
       "    </tr>\n",
       "    <tr>\n",
       "        <td>Anderson Lake</td>\n",
       "    </tr>\n",
       "    <tr>\n",
       "        <td>Valentina Roerich</td>\n",
       "    </tr>\n",
       "    <tr>\n",
       "        <td>Frank Danforth</td>\n",
       "    </tr>\n",
       "</table>"
      ],
      "text/plain": [
       "[('William Dyer',),\n",
       " ('Frank Pabodie',),\n",
       " ('Anderson Lake',),\n",
       " ('Valentina Roerich',),\n",
       " ('Frank Danforth',)]"
      ]
     },
     "execution_count": 59,
     "metadata": {},
     "output_type": "execute_result"
    }
   ],
   "source": [
    "%%sql\n",
    "SELECT personal || ' ' || family AS 'Full Name'  FROM Person;"
   ]
  },
  {
   "cell_type": "code",
   "execution_count": 65,
   "metadata": {},
   "outputs": [
    {
     "name": "stdout",
     "output_type": "stream",
     "text": [
      " * sqlite:///../data/survey.db\n",
      "Done.\n"
     ]
    },
    {
     "data": {
      "text/html": [
       "<table>\n",
       "    <tr>\n",
       "        <th>taken</th>\n",
       "        <th>round(0.3 * taken, 3)</th>\n",
       "    </tr>\n",
       "    <tr>\n",
       "        <td>619</td>\n",
       "        <td>185.7</td>\n",
       "    </tr>\n",
       "    <tr>\n",
       "        <td>619</td>\n",
       "        <td>185.7</td>\n",
       "    </tr>\n",
       "    <tr>\n",
       "        <td>622</td>\n",
       "        <td>186.6</td>\n",
       "    </tr>\n",
       "    <tr>\n",
       "        <td>622</td>\n",
       "        <td>186.6</td>\n",
       "    </tr>\n",
       "    <tr>\n",
       "        <td>734</td>\n",
       "        <td>220.2</td>\n",
       "    </tr>\n",
       "    <tr>\n",
       "        <td>734</td>\n",
       "        <td>220.2</td>\n",
       "    </tr>\n",
       "    <tr>\n",
       "        <td>734</td>\n",
       "        <td>220.2</td>\n",
       "    </tr>\n",
       "    <tr>\n",
       "        <td>735</td>\n",
       "        <td>220.5</td>\n",
       "    </tr>\n",
       "    <tr>\n",
       "        <td>735</td>\n",
       "        <td>220.5</td>\n",
       "    </tr>\n",
       "    <tr>\n",
       "        <td>735</td>\n",
       "        <td>220.5</td>\n",
       "    </tr>\n",
       "    <tr>\n",
       "        <td>751</td>\n",
       "        <td>225.3</td>\n",
       "    </tr>\n",
       "    <tr>\n",
       "        <td>751</td>\n",
       "        <td>225.3</td>\n",
       "    </tr>\n",
       "    <tr>\n",
       "        <td>751</td>\n",
       "        <td>225.3</td>\n",
       "    </tr>\n",
       "    <tr>\n",
       "        <td>752</td>\n",
       "        <td>225.6</td>\n",
       "    </tr>\n",
       "    <tr>\n",
       "        <td>752</td>\n",
       "        <td>225.6</td>\n",
       "    </tr>\n",
       "    <tr>\n",
       "        <td>752</td>\n",
       "        <td>225.6</td>\n",
       "    </tr>\n",
       "    <tr>\n",
       "        <td>752</td>\n",
       "        <td>225.6</td>\n",
       "    </tr>\n",
       "    <tr>\n",
       "        <td>837</td>\n",
       "        <td>251.1</td>\n",
       "    </tr>\n",
       "    <tr>\n",
       "        <td>837</td>\n",
       "        <td>251.1</td>\n",
       "    </tr>\n",
       "    <tr>\n",
       "        <td>837</td>\n",
       "        <td>251.1</td>\n",
       "    </tr>\n",
       "    <tr>\n",
       "        <td>844</td>\n",
       "        <td>253.2</td>\n",
       "    </tr>\n",
       "</table>"
      ],
      "text/plain": [
       "[(619, 185.7),\n",
       " (619, 185.7),\n",
       " (622, 186.6),\n",
       " (622, 186.6),\n",
       " (734, 220.2),\n",
       " (734, 220.2),\n",
       " (734, 220.2),\n",
       " (735, 220.5),\n",
       " (735, 220.5),\n",
       " (735, 220.5),\n",
       " (751, 225.3),\n",
       " (751, 225.3),\n",
       " (751, 225.3),\n",
       " (752, 225.6),\n",
       " (752, 225.6),\n",
       " (752, 225.6),\n",
       " (752, 225.6),\n",
       " (837, 251.1),\n",
       " (837, 251.1),\n",
       " (837, 251.1),\n",
       " (844, 253.2)]"
      ]
     },
     "execution_count": 65,
     "metadata": {},
     "output_type": "execute_result"
    }
   ],
   "source": [
    "%%sql\n",
    "SELECT taken, round(0.3 * taken, 3) FROM Survey;"
   ]
  },
  {
   "cell_type": "code",
   "execution_count": 68,
   "metadata": {},
   "outputs": [
    {
     "name": "stdout",
     "output_type": "stream",
     "text": [
      " * sqlite:///../data/survey.db\n",
      "Done.\n"
     ]
    },
    {
     "data": {
      "text/html": [
       "<table>\n",
       "    <tr>\n",
       "        <th>taken</th>\n",
       "        <th>taken * 100</th>\n",
       "        <th>taken / 100.0</th>\n",
       "    </tr>\n",
       "    <tr>\n",
       "        <td>619</td>\n",
       "        <td>61900</td>\n",
       "        <td>6.19</td>\n",
       "    </tr>\n",
       "    <tr>\n",
       "        <td>619</td>\n",
       "        <td>61900</td>\n",
       "        <td>6.19</td>\n",
       "    </tr>\n",
       "    <tr>\n",
       "        <td>622</td>\n",
       "        <td>62200</td>\n",
       "        <td>6.22</td>\n",
       "    </tr>\n",
       "    <tr>\n",
       "        <td>622</td>\n",
       "        <td>62200</td>\n",
       "        <td>6.22</td>\n",
       "    </tr>\n",
       "    <tr>\n",
       "        <td>734</td>\n",
       "        <td>73400</td>\n",
       "        <td>7.34</td>\n",
       "    </tr>\n",
       "    <tr>\n",
       "        <td>734</td>\n",
       "        <td>73400</td>\n",
       "        <td>7.34</td>\n",
       "    </tr>\n",
       "    <tr>\n",
       "        <td>734</td>\n",
       "        <td>73400</td>\n",
       "        <td>7.34</td>\n",
       "    </tr>\n",
       "    <tr>\n",
       "        <td>735</td>\n",
       "        <td>73500</td>\n",
       "        <td>7.35</td>\n",
       "    </tr>\n",
       "    <tr>\n",
       "        <td>735</td>\n",
       "        <td>73500</td>\n",
       "        <td>7.35</td>\n",
       "    </tr>\n",
       "    <tr>\n",
       "        <td>735</td>\n",
       "        <td>73500</td>\n",
       "        <td>7.35</td>\n",
       "    </tr>\n",
       "    <tr>\n",
       "        <td>751</td>\n",
       "        <td>75100</td>\n",
       "        <td>7.51</td>\n",
       "    </tr>\n",
       "    <tr>\n",
       "        <td>751</td>\n",
       "        <td>75100</td>\n",
       "        <td>7.51</td>\n",
       "    </tr>\n",
       "    <tr>\n",
       "        <td>751</td>\n",
       "        <td>75100</td>\n",
       "        <td>7.51</td>\n",
       "    </tr>\n",
       "    <tr>\n",
       "        <td>752</td>\n",
       "        <td>75200</td>\n",
       "        <td>7.52</td>\n",
       "    </tr>\n",
       "    <tr>\n",
       "        <td>752</td>\n",
       "        <td>75200</td>\n",
       "        <td>7.52</td>\n",
       "    </tr>\n",
       "    <tr>\n",
       "        <td>752</td>\n",
       "        <td>75200</td>\n",
       "        <td>7.52</td>\n",
       "    </tr>\n",
       "    <tr>\n",
       "        <td>752</td>\n",
       "        <td>75200</td>\n",
       "        <td>7.52</td>\n",
       "    </tr>\n",
       "    <tr>\n",
       "        <td>837</td>\n",
       "        <td>83700</td>\n",
       "        <td>8.37</td>\n",
       "    </tr>\n",
       "    <tr>\n",
       "        <td>837</td>\n",
       "        <td>83700</td>\n",
       "        <td>8.37</td>\n",
       "    </tr>\n",
       "    <tr>\n",
       "        <td>837</td>\n",
       "        <td>83700</td>\n",
       "        <td>8.37</td>\n",
       "    </tr>\n",
       "    <tr>\n",
       "        <td>844</td>\n",
       "        <td>84400</td>\n",
       "        <td>8.44</td>\n",
       "    </tr>\n",
       "</table>"
      ],
      "text/plain": [
       "[(619, 61900, 6.19),\n",
       " (619, 61900, 6.19),\n",
       " (622, 62200, 6.22),\n",
       " (622, 62200, 6.22),\n",
       " (734, 73400, 7.34),\n",
       " (734, 73400, 7.34),\n",
       " (734, 73400, 7.34),\n",
       " (735, 73500, 7.35),\n",
       " (735, 73500, 7.35),\n",
       " (735, 73500, 7.35),\n",
       " (751, 75100, 7.51),\n",
       " (751, 75100, 7.51),\n",
       " (751, 75100, 7.51),\n",
       " (752, 75200, 7.52),\n",
       " (752, 75200, 7.52),\n",
       " (752, 75200, 7.52),\n",
       " (752, 75200, 7.52),\n",
       " (837, 83700, 8.37),\n",
       " (837, 83700, 8.37),\n",
       " (837, 83700, 8.37),\n",
       " (844, 84400, 8.44)]"
      ]
     },
     "execution_count": 68,
     "metadata": {},
     "output_type": "execute_result"
    }
   ],
   "source": [
    "%%sql\n",
    "SELECT taken, taken * 100, taken / 100.0 FROM Survey;"
   ]
  },
  {
   "cell_type": "markdown",
   "metadata": {},
   "source": [
    "## Missing Data"
   ]
  },
  {
   "cell_type": "code",
   "execution_count": 66,
   "metadata": {},
   "outputs": [
    {
     "name": "stdout",
     "output_type": "stream",
     "text": [
      " * sqlite:///../data/survey.db\n",
      "Done.\n"
     ]
    },
    {
     "data": {
      "text/html": [
       "<table>\n",
       "    <tr>\n",
       "        <th>id</th>\n",
       "        <th>site</th>\n",
       "        <th>dated</th>\n",
       "    </tr>\n",
       "    <tr>\n",
       "        <td>619</td>\n",
       "        <td>DR-1</td>\n",
       "        <td>1927-02-08</td>\n",
       "    </tr>\n",
       "    <tr>\n",
       "        <td>622</td>\n",
       "        <td>DR-1</td>\n",
       "        <td>1927-02-10</td>\n",
       "    </tr>\n",
       "    <tr>\n",
       "        <td>734</td>\n",
       "        <td>DR-3</td>\n",
       "        <td>1930-01-07</td>\n",
       "    </tr>\n",
       "    <tr>\n",
       "        <td>735</td>\n",
       "        <td>DR-3</td>\n",
       "        <td>1930-01-12</td>\n",
       "    </tr>\n",
       "    <tr>\n",
       "        <td>751</td>\n",
       "        <td>DR-3</td>\n",
       "        <td>1930-02-26</td>\n",
       "    </tr>\n",
       "    <tr>\n",
       "        <td>752</td>\n",
       "        <td>DR-3</td>\n",
       "        <td>None</td>\n",
       "    </tr>\n",
       "    <tr>\n",
       "        <td>837</td>\n",
       "        <td>MSK-4</td>\n",
       "        <td>1932-01-14</td>\n",
       "    </tr>\n",
       "    <tr>\n",
       "        <td>844</td>\n",
       "        <td>DR-1</td>\n",
       "        <td>1932-03-22</td>\n",
       "    </tr>\n",
       "</table>"
      ],
      "text/plain": [
       "[(619, 'DR-1', '1927-02-08'),\n",
       " (622, 'DR-1', '1927-02-10'),\n",
       " (734, 'DR-3', '1930-01-07'),\n",
       " (735, 'DR-3', '1930-01-12'),\n",
       " (751, 'DR-3', '1930-02-26'),\n",
       " (752, 'DR-3', None),\n",
       " (837, 'MSK-4', '1932-01-14'),\n",
       " (844, 'DR-1', '1932-03-22')]"
      ]
     },
     "execution_count": 66,
     "metadata": {},
     "output_type": "execute_result"
    }
   ],
   "source": [
    "%%sql\n",
    "SELECT * FROM Visited;"
   ]
  },
  {
   "cell_type": "code",
   "execution_count": 69,
   "metadata": {},
   "outputs": [
    {
     "name": "stdout",
     "output_type": "stream",
     "text": [
      " * sqlite:///../data/survey.db\n",
      "Done.\n"
     ]
    },
    {
     "data": {
      "text/html": [
       "<table>\n",
       "    <tr>\n",
       "        <th>id</th>\n",
       "        <th>site</th>\n",
       "        <th>dated</th>\n",
       "    </tr>\n",
       "    <tr>\n",
       "        <td>619</td>\n",
       "        <td>DR-1</td>\n",
       "        <td>1927-02-08</td>\n",
       "    </tr>\n",
       "    <tr>\n",
       "        <td>622</td>\n",
       "        <td>DR-1</td>\n",
       "        <td>1927-02-10</td>\n",
       "    </tr>\n",
       "</table>"
      ],
      "text/plain": [
       "[(619, 'DR-1', '1927-02-08'), (622, 'DR-1', '1927-02-10')]"
      ]
     },
     "execution_count": 69,
     "metadata": {},
     "output_type": "execute_result"
    }
   ],
   "source": [
    "%%sql\n",
    "SELECT * FROM Visited\n",
    "WHERE dated < '1930-01-01';"
   ]
  },
  {
   "cell_type": "code",
   "execution_count": 70,
   "metadata": {},
   "outputs": [
    {
     "name": "stdout",
     "output_type": "stream",
     "text": [
      " * sqlite:///../data/survey.db\n",
      "Done.\n"
     ]
    },
    {
     "data": {
      "text/html": [
       "<table>\n",
       "    <tr>\n",
       "        <th>id</th>\n",
       "        <th>site</th>\n",
       "        <th>dated</th>\n",
       "    </tr>\n",
       "    <tr>\n",
       "        <td>734</td>\n",
       "        <td>DR-3</td>\n",
       "        <td>1930-01-07</td>\n",
       "    </tr>\n",
       "    <tr>\n",
       "        <td>735</td>\n",
       "        <td>DR-3</td>\n",
       "        <td>1930-01-12</td>\n",
       "    </tr>\n",
       "    <tr>\n",
       "        <td>751</td>\n",
       "        <td>DR-3</td>\n",
       "        <td>1930-02-26</td>\n",
       "    </tr>\n",
       "    <tr>\n",
       "        <td>837</td>\n",
       "        <td>MSK-4</td>\n",
       "        <td>1932-01-14</td>\n",
       "    </tr>\n",
       "    <tr>\n",
       "        <td>844</td>\n",
       "        <td>DR-1</td>\n",
       "        <td>1932-03-22</td>\n",
       "    </tr>\n",
       "</table>"
      ],
      "text/plain": [
       "[(734, 'DR-3', '1930-01-07'),\n",
       " (735, 'DR-3', '1930-01-12'),\n",
       " (751, 'DR-3', '1930-02-26'),\n",
       " (837, 'MSK-4', '1932-01-14'),\n",
       " (844, 'DR-1', '1932-03-22')]"
      ]
     },
     "execution_count": 70,
     "metadata": {},
     "output_type": "execute_result"
    }
   ],
   "source": [
    "%%sql\n",
    "SELECT * FROM Visited\n",
    "WHERE dated >= '1930-01-01';"
   ]
  },
  {
   "cell_type": "code",
   "execution_count": 71,
   "metadata": {},
   "outputs": [
    {
     "name": "stdout",
     "output_type": "stream",
     "text": [
      " * sqlite:///../data/survey.db\n",
      "Done.\n"
     ]
    },
    {
     "data": {
      "text/html": [
       "<table>\n",
       "    <tr>\n",
       "        <th>id</th>\n",
       "        <th>site</th>\n",
       "        <th>dated</th>\n",
       "    </tr>\n",
       "</table>"
      ],
      "text/plain": [
       "[]"
      ]
     },
     "execution_count": 71,
     "metadata": {},
     "output_type": "execute_result"
    }
   ],
   "source": [
    "%%sql\n",
    "SELECT * FROM Visited\n",
    "WHERE dated = NULL;"
   ]
  },
  {
   "cell_type": "code",
   "execution_count": 72,
   "metadata": {},
   "outputs": [
    {
     "name": "stdout",
     "output_type": "stream",
     "text": [
      " * sqlite:///../data/survey.db\n",
      "Done.\n"
     ]
    },
    {
     "data": {
      "text/html": [
       "<table>\n",
       "    <tr>\n",
       "        <th>id</th>\n",
       "        <th>site</th>\n",
       "        <th>dated</th>\n",
       "    </tr>\n",
       "</table>"
      ],
      "text/plain": [
       "[]"
      ]
     },
     "execution_count": 72,
     "metadata": {},
     "output_type": "execute_result"
    }
   ],
   "source": [
    "%%sql\n",
    "SELECT * FROM Visited\n",
    "WHERE dated != NULL;"
   ]
  },
  {
   "cell_type": "code",
   "execution_count": 73,
   "metadata": {},
   "outputs": [
    {
     "name": "stdout",
     "output_type": "stream",
     "text": [
      " * sqlite:///../data/survey.db\n",
      "Done.\n"
     ]
    },
    {
     "data": {
      "text/html": [
       "<table>\n",
       "    <tr>\n",
       "        <th>id</th>\n",
       "        <th>site</th>\n",
       "        <th>dated</th>\n",
       "    </tr>\n",
       "    <tr>\n",
       "        <td>752</td>\n",
       "        <td>DR-3</td>\n",
       "        <td>None</td>\n",
       "    </tr>\n",
       "</table>"
      ],
      "text/plain": [
       "[(752, 'DR-3', None)]"
      ]
     },
     "execution_count": 73,
     "metadata": {},
     "output_type": "execute_result"
    }
   ],
   "source": [
    "%%sql\n",
    "SELECT * FROM Visited\n",
    "WHERE dated IS NULL;"
   ]
  },
  {
   "cell_type": "code",
   "execution_count": 74,
   "metadata": {},
   "outputs": [
    {
     "name": "stdout",
     "output_type": "stream",
     "text": [
      " * sqlite:///../data/survey.db\n",
      "Done.\n"
     ]
    },
    {
     "data": {
      "text/html": [
       "<table>\n",
       "    <tr>\n",
       "        <th>id</th>\n",
       "        <th>site</th>\n",
       "        <th>dated</th>\n",
       "    </tr>\n",
       "    <tr>\n",
       "        <td>619</td>\n",
       "        <td>DR-1</td>\n",
       "        <td>1927-02-08</td>\n",
       "    </tr>\n",
       "    <tr>\n",
       "        <td>622</td>\n",
       "        <td>DR-1</td>\n",
       "        <td>1927-02-10</td>\n",
       "    </tr>\n",
       "    <tr>\n",
       "        <td>734</td>\n",
       "        <td>DR-3</td>\n",
       "        <td>1930-01-07</td>\n",
       "    </tr>\n",
       "    <tr>\n",
       "        <td>735</td>\n",
       "        <td>DR-3</td>\n",
       "        <td>1930-01-12</td>\n",
       "    </tr>\n",
       "    <tr>\n",
       "        <td>751</td>\n",
       "        <td>DR-3</td>\n",
       "        <td>1930-02-26</td>\n",
       "    </tr>\n",
       "    <tr>\n",
       "        <td>837</td>\n",
       "        <td>MSK-4</td>\n",
       "        <td>1932-01-14</td>\n",
       "    </tr>\n",
       "    <tr>\n",
       "        <td>844</td>\n",
       "        <td>DR-1</td>\n",
       "        <td>1932-03-22</td>\n",
       "    </tr>\n",
       "</table>"
      ],
      "text/plain": [
       "[(619, 'DR-1', '1927-02-08'),\n",
       " (622, 'DR-1', '1927-02-10'),\n",
       " (734, 'DR-3', '1930-01-07'),\n",
       " (735, 'DR-3', '1930-01-12'),\n",
       " (751, 'DR-3', '1930-02-26'),\n",
       " (837, 'MSK-4', '1932-01-14'),\n",
       " (844, 'DR-1', '1932-03-22')]"
      ]
     },
     "execution_count": 74,
     "metadata": {},
     "output_type": "execute_result"
    }
   ],
   "source": [
    "%%sql\n",
    "SELECT * FROM Visited\n",
    "WHERE dated IS NOT NULL;"
   ]
  },
  {
   "cell_type": "code",
   "execution_count": 77,
   "metadata": {},
   "outputs": [
    {
     "name": "stdout",
     "output_type": "stream",
     "text": [
      " * sqlite:///../data/survey.db\n",
      "Done.\n"
     ]
    },
    {
     "data": {
      "text/html": [
       "<table>\n",
       "    <tr>\n",
       "        <th>taken</th>\n",
       "        <th>person</th>\n",
       "        <th>quant</th>\n",
       "        <th>reading</th>\n",
       "    </tr>\n",
       "    <tr>\n",
       "        <td>619</td>\n",
       "        <td>dyer</td>\n",
       "        <td>sal</td>\n",
       "        <td>0.13</td>\n",
       "    </tr>\n",
       "    <tr>\n",
       "        <td>622</td>\n",
       "        <td>dyer</td>\n",
       "        <td>sal</td>\n",
       "        <td>0.09</td>\n",
       "    </tr>\n",
       "    <tr>\n",
       "        <td>752</td>\n",
       "        <td>roe</td>\n",
       "        <td>sal</td>\n",
       "        <td>41.6</td>\n",
       "    </tr>\n",
       "    <tr>\n",
       "        <td>837</td>\n",
       "        <td>roe</td>\n",
       "        <td>sal</td>\n",
       "        <td>22.5</td>\n",
       "    </tr>\n",
       "</table>"
      ],
      "text/plain": [
       "[(619, 'dyer', 'sal', 0.13),\n",
       " (622, 'dyer', 'sal', 0.09),\n",
       " (752, 'roe', 'sal', 41.6),\n",
       " (837, 'roe', 'sal', 22.5)]"
      ]
     },
     "execution_count": 77,
     "metadata": {},
     "output_type": "execute_result"
    }
   ],
   "source": [
    "%%sql\n",
    "SELECT * FROM Survey\n",
    "WHERE quant = 'sal' AND person != 'lake';"
   ]
  },
  {
   "cell_type": "code",
   "execution_count": 78,
   "metadata": {},
   "outputs": [
    {
     "name": "stdout",
     "output_type": "stream",
     "text": [
      " * sqlite:///../data/survey.db\n",
      "Done.\n"
     ]
    },
    {
     "data": {
      "text/html": [
       "<table>\n",
       "    <tr>\n",
       "        <th>taken</th>\n",
       "        <th>person</th>\n",
       "        <th>quant</th>\n",
       "        <th>reading</th>\n",
       "    </tr>\n",
       "    <tr>\n",
       "        <td>619</td>\n",
       "        <td>dyer</td>\n",
       "        <td>sal</td>\n",
       "        <td>0.13</td>\n",
       "    </tr>\n",
       "    <tr>\n",
       "        <td>622</td>\n",
       "        <td>dyer</td>\n",
       "        <td>sal</td>\n",
       "        <td>0.09</td>\n",
       "    </tr>\n",
       "    <tr>\n",
       "        <td>735</td>\n",
       "        <td>None</td>\n",
       "        <td>sal</td>\n",
       "        <td>0.06</td>\n",
       "    </tr>\n",
       "    <tr>\n",
       "        <td>752</td>\n",
       "        <td>roe</td>\n",
       "        <td>sal</td>\n",
       "        <td>41.6</td>\n",
       "    </tr>\n",
       "    <tr>\n",
       "        <td>837</td>\n",
       "        <td>roe</td>\n",
       "        <td>sal</td>\n",
       "        <td>22.5</td>\n",
       "    </tr>\n",
       "</table>"
      ],
      "text/plain": [
       "[(619, 'dyer', 'sal', 0.13),\n",
       " (622, 'dyer', 'sal', 0.09),\n",
       " (735, None, 'sal', 0.06),\n",
       " (752, 'roe', 'sal', 41.6),\n",
       " (837, 'roe', 'sal', 22.5)]"
      ]
     },
     "execution_count": 78,
     "metadata": {},
     "output_type": "execute_result"
    }
   ],
   "source": [
    "%%sql\n",
    "SELECT * FROM Survey\n",
    "WHERE quant = 'sal' AND (person != 'lake' OR person IS NULL);"
   ]
  },
  {
   "cell_type": "markdown",
   "metadata": {},
   "source": [
    "## Aggregation"
   ]
  },
  {
   "cell_type": "code",
   "execution_count": 86,
   "metadata": {},
   "outputs": [
    {
     "name": "stdout",
     "output_type": "stream",
     "text": [
      " * sqlite:///../data/survey.db\n",
      "Done.\n"
     ]
    },
    {
     "data": {
      "text/html": [
       "<table>\n",
       "    <tr>\n",
       "        <th>dated</th>\n",
       "    </tr>\n",
       "    <tr>\n",
       "        <td>1927-02-08</td>\n",
       "    </tr>\n",
       "    <tr>\n",
       "        <td>1927-02-10</td>\n",
       "    </tr>\n",
       "    <tr>\n",
       "        <td>1930-01-07</td>\n",
       "    </tr>\n",
       "    <tr>\n",
       "        <td>1930-01-12</td>\n",
       "    </tr>\n",
       "    <tr>\n",
       "        <td>1930-02-26</td>\n",
       "    </tr>\n",
       "    <tr>\n",
       "        <td>None</td>\n",
       "    </tr>\n",
       "    <tr>\n",
       "        <td>1932-01-14</td>\n",
       "    </tr>\n",
       "    <tr>\n",
       "        <td>1932-03-22</td>\n",
       "    </tr>\n",
       "</table>"
      ],
      "text/plain": [
       "[('1927-02-08',),\n",
       " ('1927-02-10',),\n",
       " ('1930-01-07',),\n",
       " ('1930-01-12',),\n",
       " ('1930-02-26',),\n",
       " (None,),\n",
       " ('1932-01-14',),\n",
       " ('1932-03-22',)]"
      ]
     },
     "execution_count": 86,
     "metadata": {},
     "output_type": "execute_result"
    }
   ],
   "source": [
    "%%sql\n",
    "SELECT dated FROM Visited;"
   ]
  },
  {
   "cell_type": "code",
   "execution_count": 87,
   "metadata": {},
   "outputs": [
    {
     "name": "stdout",
     "output_type": "stream",
     "text": [
      " * sqlite:///../data/survey.db\n",
      "Done.\n"
     ]
    },
    {
     "data": {
      "text/html": [
       "<table>\n",
       "    <tr>\n",
       "        <th>min(dated)</th>\n",
       "    </tr>\n",
       "    <tr>\n",
       "        <td>1927-02-08</td>\n",
       "    </tr>\n",
       "</table>"
      ],
      "text/plain": [
       "[('1927-02-08',)]"
      ]
     },
     "execution_count": 87,
     "metadata": {},
     "output_type": "execute_result"
    }
   ],
   "source": [
    "%sql SELECT min(dated) FROM Visited;"
   ]
  },
  {
   "cell_type": "code",
   "execution_count": 88,
   "metadata": {},
   "outputs": [
    {
     "name": "stdout",
     "output_type": "stream",
     "text": [
      " * sqlite:///../data/survey.db\n",
      "Done.\n"
     ]
    },
    {
     "data": {
      "text/html": [
       "<table>\n",
       "    <tr>\n",
       "        <th>max(dated)</th>\n",
       "    </tr>\n",
       "    <tr>\n",
       "        <td>1932-03-22</td>\n",
       "    </tr>\n",
       "</table>"
      ],
      "text/plain": [
       "[('1932-03-22',)]"
      ]
     },
     "execution_count": 88,
     "metadata": {},
     "output_type": "execute_result"
    }
   ],
   "source": [
    "%sql SELECT max(dated) FROM Visited;"
   ]
  },
  {
   "cell_type": "code",
   "execution_count": 93,
   "metadata": {},
   "outputs": [
    {
     "name": "stdout",
     "output_type": "stream",
     "text": [
      " * sqlite:///../data/survey.db\n",
      "Done.\n"
     ]
    },
    {
     "data": {
      "text/html": [
       "<table>\n",
       "    <tr>\n",
       "        <th>round(avg(reading), 3)</th>\n",
       "    </tr>\n",
       "    <tr>\n",
       "        <td>7.203</td>\n",
       "    </tr>\n",
       "</table>"
      ],
      "text/plain": [
       "[(7.203,)]"
      ]
     },
     "execution_count": 93,
     "metadata": {},
     "output_type": "execute_result"
    }
   ],
   "source": [
    "%%sql\n",
    "SELECT round(avg(reading), 3) FROM Survey\n",
    "WHERE quant = 'sal';"
   ]
  },
  {
   "cell_type": "code",
   "execution_count": 94,
   "metadata": {},
   "outputs": [
    {
     "name": "stdout",
     "output_type": "stream",
     "text": [
      " * sqlite:///../data/survey.db\n",
      "Done.\n"
     ]
    },
    {
     "data": {
      "text/html": [
       "<table>\n",
       "    <tr>\n",
       "        <th>count(reading)</th>\n",
       "    </tr>\n",
       "    <tr>\n",
       "        <td>9</td>\n",
       "    </tr>\n",
       "</table>"
      ],
      "text/plain": [
       "[(9,)]"
      ]
     },
     "execution_count": 94,
     "metadata": {},
     "output_type": "execute_result"
    }
   ],
   "source": [
    "%%sql\n",
    "SELECT count(reading) FROM Survey\n",
    "WHERE quant = 'sal';"
   ]
  },
  {
   "cell_type": "code",
   "execution_count": 96,
   "metadata": {},
   "outputs": [
    {
     "name": "stdout",
     "output_type": "stream",
     "text": [
      " * sqlite:///../data/survey.db\n",
      "Done.\n"
     ]
    },
    {
     "data": {
      "text/html": [
       "<table>\n",
       "    <tr>\n",
       "        <th>round(sum(reading), 2)</th>\n",
       "    </tr>\n",
       "    <tr>\n",
       "        <td>64.83</td>\n",
       "    </tr>\n",
       "</table>"
      ],
      "text/plain": [
       "[(64.83,)]"
      ]
     },
     "execution_count": 96,
     "metadata": {},
     "output_type": "execute_result"
    }
   ],
   "source": [
    "%%sql\n",
    "SELECT round(sum(reading), 2) FROM Survey\n",
    "WHERE quant = 'sal';"
   ]
  },
  {
   "cell_type": "code",
   "execution_count": 97,
   "metadata": {},
   "outputs": [
    {
     "name": "stdout",
     "output_type": "stream",
     "text": [
      " * sqlite:///../data/survey.db\n",
      "Done.\n"
     ]
    },
    {
     "data": {
      "text/html": [
       "<table>\n",
       "    <tr>\n",
       "        <th>min(reading)</th>\n",
       "        <th>avg(reading)</th>\n",
       "        <th>max(reading)</th>\n",
       "    </tr>\n",
       "    <tr>\n",
       "        <td>0.05</td>\n",
       "        <td>0.10428571428571429</td>\n",
       "        <td>0.21</td>\n",
       "    </tr>\n",
       "</table>"
      ],
      "text/plain": [
       "[(0.05, 0.10428571428571429, 0.21)]"
      ]
     },
     "execution_count": 97,
     "metadata": {},
     "output_type": "execute_result"
    }
   ],
   "source": [
    "%%sql\n",
    "SELECT min(reading), avg(reading), max(reading) FROM Survey\n",
    "WHERE quant = 'sal' AND reading <= 1.0;"
   ]
  },
  {
   "cell_type": "markdown",
   "metadata": {},
   "source": [
    "The above query executes as follows..."
   ]
  },
  {
   "cell_type": "code",
   "execution_count": 98,
   "metadata": {},
   "outputs": [
    {
     "name": "stdout",
     "output_type": "stream",
     "text": [
      " * sqlite:///../data/survey.db\n",
      "Done.\n"
     ]
    },
    {
     "data": {
      "text/html": [
       "<table>\n",
       "    <tr>\n",
       "        <th>taken</th>\n",
       "        <th>person</th>\n",
       "        <th>quant</th>\n",
       "        <th>reading</th>\n",
       "    </tr>\n",
       "    <tr>\n",
       "        <td>619</td>\n",
       "        <td>dyer</td>\n",
       "        <td>sal</td>\n",
       "        <td>0.13</td>\n",
       "    </tr>\n",
       "    <tr>\n",
       "        <td>622</td>\n",
       "        <td>dyer</td>\n",
       "        <td>sal</td>\n",
       "        <td>0.09</td>\n",
       "    </tr>\n",
       "    <tr>\n",
       "        <td>734</td>\n",
       "        <td>lake</td>\n",
       "        <td>sal</td>\n",
       "        <td>0.05</td>\n",
       "    </tr>\n",
       "    <tr>\n",
       "        <td>735</td>\n",
       "        <td>None</td>\n",
       "        <td>sal</td>\n",
       "        <td>0.06</td>\n",
       "    </tr>\n",
       "    <tr>\n",
       "        <td>751</td>\n",
       "        <td>lake</td>\n",
       "        <td>sal</td>\n",
       "        <td>0.1</td>\n",
       "    </tr>\n",
       "    <tr>\n",
       "        <td>752</td>\n",
       "        <td>lake</td>\n",
       "        <td>sal</td>\n",
       "        <td>0.09</td>\n",
       "    </tr>\n",
       "    <tr>\n",
       "        <td>837</td>\n",
       "        <td>lake</td>\n",
       "        <td>sal</td>\n",
       "        <td>0.21</td>\n",
       "    </tr>\n",
       "</table>"
      ],
      "text/plain": [
       "[(619, 'dyer', 'sal', 0.13),\n",
       " (622, 'dyer', 'sal', 0.09),\n",
       " (734, 'lake', 'sal', 0.05),\n",
       " (735, None, 'sal', 0.06),\n",
       " (751, 'lake', 'sal', 0.1),\n",
       " (752, 'lake', 'sal', 0.09),\n",
       " (837, 'lake', 'sal', 0.21)]"
      ]
     },
     "execution_count": 98,
     "metadata": {},
     "output_type": "execute_result"
    }
   ],
   "source": [
    "%%sql\n",
    "SELECT * FROM Survey\n",
    "WHERE quant = 'sal' AND reading <= 1.0;"
   ]
  },
  {
   "cell_type": "code",
   "execution_count": 99,
   "metadata": {},
   "outputs": [
    {
     "name": "stdout",
     "output_type": "stream",
     "text": [
      " * sqlite:///../data/survey.db\n",
      "Done.\n"
     ]
    },
    {
     "data": {
      "text/html": [
       "<table>\n",
       "    <tr>\n",
       "        <th>reading</th>\n",
       "        <th>reading_1</th>\n",
       "        <th>reading_2</th>\n",
       "    </tr>\n",
       "    <tr>\n",
       "        <td>0.13</td>\n",
       "        <td>0.13</td>\n",
       "        <td>0.13</td>\n",
       "    </tr>\n",
       "    <tr>\n",
       "        <td>0.09</td>\n",
       "        <td>0.09</td>\n",
       "        <td>0.09</td>\n",
       "    </tr>\n",
       "    <tr>\n",
       "        <td>0.05</td>\n",
       "        <td>0.05</td>\n",
       "        <td>0.05</td>\n",
       "    </tr>\n",
       "    <tr>\n",
       "        <td>0.06</td>\n",
       "        <td>0.06</td>\n",
       "        <td>0.06</td>\n",
       "    </tr>\n",
       "    <tr>\n",
       "        <td>0.1</td>\n",
       "        <td>0.1</td>\n",
       "        <td>0.1</td>\n",
       "    </tr>\n",
       "    <tr>\n",
       "        <td>0.09</td>\n",
       "        <td>0.09</td>\n",
       "        <td>0.09</td>\n",
       "    </tr>\n",
       "    <tr>\n",
       "        <td>0.21</td>\n",
       "        <td>0.21</td>\n",
       "        <td>0.21</td>\n",
       "    </tr>\n",
       "</table>"
      ],
      "text/plain": [
       "[(0.13, 0.13, 0.13),\n",
       " (0.09, 0.09, 0.09),\n",
       " (0.05, 0.05, 0.05),\n",
       " (0.06, 0.06, 0.06),\n",
       " (0.1, 0.1, 0.1),\n",
       " (0.09, 0.09, 0.09),\n",
       " (0.21, 0.21, 0.21)]"
      ]
     },
     "execution_count": 99,
     "metadata": {},
     "output_type": "execute_result"
    }
   ],
   "source": [
    "%%sql\n",
    "SELECT reading, reading, reading FROM Survey\n",
    "WHERE quant = 'sal' AND reading <= 1.0;"
   ]
  },
  {
   "cell_type": "code",
   "execution_count": 100,
   "metadata": {},
   "outputs": [
    {
     "name": "stdout",
     "output_type": "stream",
     "text": [
      " * sqlite:///../data/survey.db\n",
      "Done.\n"
     ]
    },
    {
     "data": {
      "text/html": [
       "<table>\n",
       "    <tr>\n",
       "        <th>min(reading)</th>\n",
       "        <th>avg(reading)</th>\n",
       "        <th>max(reading)</th>\n",
       "    </tr>\n",
       "    <tr>\n",
       "        <td>0.05</td>\n",
       "        <td>0.10428571428571429</td>\n",
       "        <td>0.21</td>\n",
       "    </tr>\n",
       "</table>"
      ],
      "text/plain": [
       "[(0.05, 0.10428571428571429, 0.21)]"
      ]
     },
     "execution_count": 100,
     "metadata": {},
     "output_type": "execute_result"
    }
   ],
   "source": [
    "%%sql\n",
    "SELECT min(reading), avg(reading), max(reading) FROM Survey\n",
    "WHERE quant = 'sal' AND reading <= 1.0;"
   ]
  },
  {
   "cell_type": "code",
   "execution_count": 103,
   "metadata": {},
   "outputs": [
    {
     "name": "stdout",
     "output_type": "stream",
     "text": [
      " * sqlite:///../data/survey.db\n",
      "Done.\n"
     ]
    },
    {
     "data": {
      "text/html": [
       "<table>\n",
       "    <tr>\n",
       "        <th>person</th>\n",
       "        <th>count(*)</th>\n",
       "    </tr>\n",
       "    <tr>\n",
       "        <td>dyer</td>\n",
       "        <td>7</td>\n",
       "    </tr>\n",
       "</table>"
      ],
      "text/plain": [
       "[('dyer', 7)]"
      ]
     },
     "execution_count": 103,
     "metadata": {},
     "output_type": "execute_result"
    }
   ],
   "source": [
    "%%sql\n",
    "SELECT person, count(*) FROM Survey\n",
    "WHERE quant = 'sal' AND reading <= 1.0;"
   ]
  },
  {
   "cell_type": "code",
   "execution_count": 104,
   "metadata": {},
   "outputs": [
    {
     "name": "stdout",
     "output_type": "stream",
     "text": [
      " * sqlite:///../data/survey.db\n",
      "Done.\n"
     ]
    },
    {
     "data": {
      "text/html": [
       "<table>\n",
       "    <tr>\n",
       "        <th>min(reading)</th>\n",
       "        <th>avg(reading)</th>\n",
       "        <th>max(reading)</th>\n",
       "    </tr>\n",
       "    <tr>\n",
       "        <td>None</td>\n",
       "        <td>None</td>\n",
       "        <td>None</td>\n",
       "    </tr>\n",
       "</table>"
      ],
      "text/plain": [
       "[(None, None, None)]"
      ]
     },
     "execution_count": 104,
     "metadata": {},
     "output_type": "execute_result"
    }
   ],
   "source": [
    "%%sql\n",
    "SELECT min(reading), avg(reading), max(reading) FROM Survey\n",
    "WHERE quant = 'sal' AND reading <= 0.0;"
   ]
  },
  {
   "cell_type": "code",
   "execution_count": 105,
   "metadata": {},
   "outputs": [
    {
     "name": "stdout",
     "output_type": "stream",
     "text": [
      " * sqlite:///../data/survey.db\n",
      "Done.\n"
     ]
    },
    {
     "data": {
      "text/html": [
       "<table>\n",
       "    <tr>\n",
       "        <th>person</th>\n",
       "        <th>count(reading)</th>\n",
       "        <th>min(reading)</th>\n",
       "        <th>avg(reading)</th>\n",
       "        <th>max(reading)</th>\n",
       "    </tr>\n",
       "    <tr>\n",
       "        <td>roe</td>\n",
       "        <td>8</td>\n",
       "        <td>1.46</td>\n",
       "        <td>6.5625</td>\n",
       "        <td>11.25</td>\n",
       "    </tr>\n",
       "</table>"
      ],
      "text/plain": [
       "[('roe', 8, 1.46, 6.5625, 11.25)]"
      ]
     },
     "execution_count": 105,
     "metadata": {},
     "output_type": "execute_result"
    }
   ],
   "source": [
    "%%sql\n",
    "SELECT person, count(reading), min(reading), avg(reading), max(reading) FROM Survey\n",
    "WHERE quant = 'rad';"
   ]
  },
  {
   "cell_type": "code",
   "execution_count": 106,
   "metadata": {},
   "outputs": [
    {
     "name": "stdout",
     "output_type": "stream",
     "text": [
      " * sqlite:///../data/survey.db\n",
      "Done.\n"
     ]
    },
    {
     "data": {
      "text/html": [
       "<table>\n",
       "    <tr>\n",
       "        <th>person</th>\n",
       "        <th>count(reading)</th>\n",
       "        <th>min(reading)</th>\n",
       "        <th>avg(reading)</th>\n",
       "        <th>max(reading)</th>\n",
       "    </tr>\n",
       "    <tr>\n",
       "        <td>dyer</td>\n",
       "        <td>2</td>\n",
       "        <td>7.8</td>\n",
       "        <td>8.81</td>\n",
       "        <td>9.82</td>\n",
       "    </tr>\n",
       "</table>"
      ],
      "text/plain": [
       "[('dyer', 2, 7.8, 8.81, 9.82)]"
      ]
     },
     "execution_count": 106,
     "metadata": {},
     "output_type": "execute_result"
    }
   ],
   "source": [
    "%%sql\n",
    "SELECT person, count(reading), min(reading), avg(reading), max(reading) FROM Survey\n",
    "WHERE quant = 'rad' AND person = 'dyer';"
   ]
  },
  {
   "cell_type": "code",
   "execution_count": 107,
   "metadata": {},
   "outputs": [
    {
     "name": "stdout",
     "output_type": "stream",
     "text": [
      " * sqlite:///../data/survey.db\n",
      "Done.\n"
     ]
    },
    {
     "data": {
      "text/html": [
       "<table>\n",
       "    <tr>\n",
       "        <th>person</th>\n",
       "        <th>count(reading)</th>\n",
       "        <th>min(reading)</th>\n",
       "        <th>avg(reading)</th>\n",
       "        <th>max(reading)</th>\n",
       "    </tr>\n",
       "    <tr>\n",
       "        <td>lake</td>\n",
       "        <td>2</td>\n",
       "        <td>1.46</td>\n",
       "        <td>1.825</td>\n",
       "        <td>2.19</td>\n",
       "    </tr>\n",
       "</table>"
      ],
      "text/plain": [
       "[('lake', 2, 1.46, 1.825, 2.19)]"
      ]
     },
     "execution_count": 107,
     "metadata": {},
     "output_type": "execute_result"
    }
   ],
   "source": [
    "%%sql\n",
    "SELECT person, count(reading), min(reading), avg(reading), max(reading) FROM Survey\n",
    "WHERE quant = 'rad' AND person = 'lake';"
   ]
  },
  {
   "cell_type": "code",
   "execution_count": 108,
   "metadata": {},
   "outputs": [
    {
     "name": "stdout",
     "output_type": "stream",
     "text": [
      " * sqlite:///../data/survey.db\n",
      "Done.\n"
     ]
    },
    {
     "data": {
      "text/html": [
       "<table>\n",
       "    <tr>\n",
       "        <th>person</th>\n",
       "        <th>count(reading)</th>\n",
       "        <th>min(reading)</th>\n",
       "        <th>avg(reading)</th>\n",
       "        <th>max(reading)</th>\n",
       "    </tr>\n",
       "    <tr>\n",
       "        <td>roe</td>\n",
       "        <td>1</td>\n",
       "        <td>11.25</td>\n",
       "        <td>11.25</td>\n",
       "        <td>11.25</td>\n",
       "    </tr>\n",
       "</table>"
      ],
      "text/plain": [
       "[('roe', 1, 11.25, 11.25, 11.25)]"
      ]
     },
     "execution_count": 108,
     "metadata": {},
     "output_type": "execute_result"
    }
   ],
   "source": [
    "%%sql\n",
    "SELECT person, count(reading), min(reading), avg(reading), max(reading) FROM Survey\n",
    "WHERE quant = 'rad' AND person = 'roe';"
   ]
  },
  {
   "cell_type": "code",
   "execution_count": 109,
   "metadata": {},
   "outputs": [
    {
     "name": "stdout",
     "output_type": "stream",
     "text": [
      " * sqlite:///../data/survey.db\n",
      "Done.\n"
     ]
    },
    {
     "data": {
      "text/html": [
       "<table>\n",
       "    <tr>\n",
       "        <th>person</th>\n",
       "        <th>count(reading)</th>\n",
       "        <th>min(reading)</th>\n",
       "        <th>avg(reading)</th>\n",
       "        <th>max(reading)</th>\n",
       "    </tr>\n",
       "    <tr>\n",
       "        <td>pb</td>\n",
       "        <td>3</td>\n",
       "        <td>4.35</td>\n",
       "        <td>6.659999999999999</td>\n",
       "        <td>8.41</td>\n",
       "    </tr>\n",
       "</table>"
      ],
      "text/plain": [
       "[('pb', 3, 4.35, 6.659999999999999, 8.41)]"
      ]
     },
     "execution_count": 109,
     "metadata": {},
     "output_type": "execute_result"
    }
   ],
   "source": [
    "%%sql\n",
    "SELECT person, count(reading), min(reading), avg(reading), max(reading) FROM Survey\n",
    "WHERE quant = 'rad' AND person = 'pb';"
   ]
  },
  {
   "cell_type": "markdown",
   "metadata": {},
   "source": [
    "The above five queries can be combined into one query using `GROUP BY`!"
   ]
  },
  {
   "cell_type": "code",
   "execution_count": 110,
   "metadata": {},
   "outputs": [
    {
     "name": "stdout",
     "output_type": "stream",
     "text": [
      " * sqlite:///../data/survey.db\n",
      "Done.\n"
     ]
    },
    {
     "data": {
      "text/html": [
       "<table>\n",
       "    <tr>\n",
       "        <th>person</th>\n",
       "        <th>count(reading)</th>\n",
       "        <th>min(reading)</th>\n",
       "        <th>avg(reading)</th>\n",
       "        <th>max(reading)</th>\n",
       "    </tr>\n",
       "    <tr>\n",
       "        <td>dyer</td>\n",
       "        <td>2</td>\n",
       "        <td>7.8</td>\n",
       "        <td>8.81</td>\n",
       "        <td>9.82</td>\n",
       "    </tr>\n",
       "    <tr>\n",
       "        <td>lake</td>\n",
       "        <td>2</td>\n",
       "        <td>1.46</td>\n",
       "        <td>1.825</td>\n",
       "        <td>2.19</td>\n",
       "    </tr>\n",
       "    <tr>\n",
       "        <td>pb</td>\n",
       "        <td>3</td>\n",
       "        <td>4.35</td>\n",
       "        <td>6.659999999999999</td>\n",
       "        <td>8.41</td>\n",
       "    </tr>\n",
       "    <tr>\n",
       "        <td>roe</td>\n",
       "        <td>1</td>\n",
       "        <td>11.25</td>\n",
       "        <td>11.25</td>\n",
       "        <td>11.25</td>\n",
       "    </tr>\n",
       "</table>"
      ],
      "text/plain": [
       "[('dyer', 2, 7.8, 8.81, 9.82),\n",
       " ('lake', 2, 1.46, 1.825, 2.19),\n",
       " ('pb', 3, 4.35, 6.659999999999999, 8.41),\n",
       " ('roe', 1, 11.25, 11.25, 11.25)]"
      ]
     },
     "execution_count": 110,
     "metadata": {},
     "output_type": "execute_result"
    }
   ],
   "source": [
    "%%sql\n",
    "SELECT person, count(reading), min(reading), avg(reading), max(reading) FROM Survey\n",
    "WHERE quant = 'rad'\n",
    "GROUP BY person;"
   ]
  },
  {
   "cell_type": "code",
   "execution_count": 111,
   "metadata": {},
   "outputs": [
    {
     "name": "stdout",
     "output_type": "stream",
     "text": [
      " * sqlite:///../data/survey.db\n",
      "Done.\n"
     ]
    },
    {
     "data": {
      "text/html": [
       "<table>\n",
       "    <tr>\n",
       "        <th>person</th>\n",
       "        <th>count(reading)</th>\n",
       "        <th>min(reading)</th>\n",
       "        <th>avg(reading)</th>\n",
       "        <th>max(reading)</th>\n",
       "    </tr>\n",
       "    <tr>\n",
       "        <td>None</td>\n",
       "        <td>1</td>\n",
       "        <td>0.06</td>\n",
       "        <td>0.06</td>\n",
       "        <td>0.06</td>\n",
       "    </tr>\n",
       "    <tr>\n",
       "        <td>dyer</td>\n",
       "        <td>2</td>\n",
       "        <td>0.09</td>\n",
       "        <td>0.11</td>\n",
       "        <td>0.13</td>\n",
       "    </tr>\n",
       "    <tr>\n",
       "        <td>lake</td>\n",
       "        <td>4</td>\n",
       "        <td>0.05</td>\n",
       "        <td>0.1125</td>\n",
       "        <td>0.21</td>\n",
       "    </tr>\n",
       "    <tr>\n",
       "        <td>roe</td>\n",
       "        <td>2</td>\n",
       "        <td>22.5</td>\n",
       "        <td>32.05</td>\n",
       "        <td>41.6</td>\n",
       "    </tr>\n",
       "</table>"
      ],
      "text/plain": [
       "[(None, 1, 0.06, 0.06, 0.06),\n",
       " ('dyer', 2, 0.09, 0.11, 0.13),\n",
       " ('lake', 4, 0.05, 0.1125, 0.21),\n",
       " ('roe', 2, 22.5, 32.05, 41.6)]"
      ]
     },
     "execution_count": 111,
     "metadata": {},
     "output_type": "execute_result"
    }
   ],
   "source": [
    "%%sql\n",
    "SELECT person, count(reading), min(reading), avg(reading), max(reading) FROM Survey\n",
    "WHERE quant = 'sal'\n",
    "GROUP BY person;"
   ]
  },
  {
   "cell_type": "code",
   "execution_count": 112,
   "metadata": {},
   "outputs": [
    {
     "name": "stdout",
     "output_type": "stream",
     "text": [
      " * sqlite:///../data/survey.db\n",
      "Done.\n"
     ]
    },
    {
     "data": {
      "text/html": [
       "<table>\n",
       "    <tr>\n",
       "        <th>person</th>\n",
       "        <th>count(reading)</th>\n",
       "        <th>min(reading)</th>\n",
       "        <th>avg(reading)</th>\n",
       "        <th>max(reading)</th>\n",
       "    </tr>\n",
       "    <tr>\n",
       "        <td>None</td>\n",
       "        <td>1</td>\n",
       "        <td>-26.0</td>\n",
       "        <td>-26.0</td>\n",
       "        <td>-26.0</td>\n",
       "    </tr>\n",
       "    <tr>\n",
       "        <td>lake</td>\n",
       "        <td>1</td>\n",
       "        <td>-16.0</td>\n",
       "        <td>-16.0</td>\n",
       "        <td>-16.0</td>\n",
       "    </tr>\n",
       "    <tr>\n",
       "        <td>pb</td>\n",
       "        <td>2</td>\n",
       "        <td>-21.5</td>\n",
       "        <td>-20.0</td>\n",
       "        <td>-18.5</td>\n",
       "    </tr>\n",
       "</table>"
      ],
      "text/plain": [
       "[(None, 1, -26.0, -26.0, -26.0),\n",
       " ('lake', 1, -16.0, -16.0, -16.0),\n",
       " ('pb', 2, -21.5, -20.0, -18.5)]"
      ]
     },
     "execution_count": 112,
     "metadata": {},
     "output_type": "execute_result"
    }
   ],
   "source": [
    "%%sql\n",
    "SELECT person, count(reading), min(reading), avg(reading), max(reading) FROM Survey\n",
    "WHERE quant = 'temp'\n",
    "GROUP BY person;"
   ]
  },
  {
   "cell_type": "markdown",
   "metadata": {},
   "source": [
    "We can combine the above three queries into a single query!"
   ]
  },
  {
   "cell_type": "code",
   "execution_count": 113,
   "metadata": {},
   "outputs": [
    {
     "name": "stdout",
     "output_type": "stream",
     "text": [
      " * sqlite:///../data/survey.db\n",
      "Done.\n"
     ]
    },
    {
     "data": {
      "text/html": [
       "<table>\n",
       "    <tr>\n",
       "        <th>person</th>\n",
       "        <th>quant</th>\n",
       "        <th>count(reading)</th>\n",
       "        <th>min(reading)</th>\n",
       "        <th>avg(reading)</th>\n",
       "        <th>max(reading)</th>\n",
       "    </tr>\n",
       "    <tr>\n",
       "        <td>None</td>\n",
       "        <td>sal</td>\n",
       "        <td>1</td>\n",
       "        <td>0.06</td>\n",
       "        <td>0.06</td>\n",
       "        <td>0.06</td>\n",
       "    </tr>\n",
       "    <tr>\n",
       "        <td>None</td>\n",
       "        <td>temp</td>\n",
       "        <td>1</td>\n",
       "        <td>-26.0</td>\n",
       "        <td>-26.0</td>\n",
       "        <td>-26.0</td>\n",
       "    </tr>\n",
       "    <tr>\n",
       "        <td>dyer</td>\n",
       "        <td>rad</td>\n",
       "        <td>2</td>\n",
       "        <td>7.8</td>\n",
       "        <td>8.81</td>\n",
       "        <td>9.82</td>\n",
       "    </tr>\n",
       "    <tr>\n",
       "        <td>dyer</td>\n",
       "        <td>sal</td>\n",
       "        <td>2</td>\n",
       "        <td>0.09</td>\n",
       "        <td>0.11</td>\n",
       "        <td>0.13</td>\n",
       "    </tr>\n",
       "    <tr>\n",
       "        <td>lake</td>\n",
       "        <td>rad</td>\n",
       "        <td>2</td>\n",
       "        <td>1.46</td>\n",
       "        <td>1.825</td>\n",
       "        <td>2.19</td>\n",
       "    </tr>\n",
       "    <tr>\n",
       "        <td>lake</td>\n",
       "        <td>sal</td>\n",
       "        <td>4</td>\n",
       "        <td>0.05</td>\n",
       "        <td>0.1125</td>\n",
       "        <td>0.21</td>\n",
       "    </tr>\n",
       "    <tr>\n",
       "        <td>lake</td>\n",
       "        <td>temp</td>\n",
       "        <td>1</td>\n",
       "        <td>-16.0</td>\n",
       "        <td>-16.0</td>\n",
       "        <td>-16.0</td>\n",
       "    </tr>\n",
       "    <tr>\n",
       "        <td>pb</td>\n",
       "        <td>rad</td>\n",
       "        <td>3</td>\n",
       "        <td>4.35</td>\n",
       "        <td>6.659999999999999</td>\n",
       "        <td>8.41</td>\n",
       "    </tr>\n",
       "    <tr>\n",
       "        <td>pb</td>\n",
       "        <td>temp</td>\n",
       "        <td>2</td>\n",
       "        <td>-21.5</td>\n",
       "        <td>-20.0</td>\n",
       "        <td>-18.5</td>\n",
       "    </tr>\n",
       "    <tr>\n",
       "        <td>roe</td>\n",
       "        <td>rad</td>\n",
       "        <td>1</td>\n",
       "        <td>11.25</td>\n",
       "        <td>11.25</td>\n",
       "        <td>11.25</td>\n",
       "    </tr>\n",
       "    <tr>\n",
       "        <td>roe</td>\n",
       "        <td>sal</td>\n",
       "        <td>2</td>\n",
       "        <td>22.5</td>\n",
       "        <td>32.05</td>\n",
       "        <td>41.6</td>\n",
       "    </tr>\n",
       "</table>"
      ],
      "text/plain": [
       "[(None, 'sal', 1, 0.06, 0.06, 0.06),\n",
       " (None, 'temp', 1, -26.0, -26.0, -26.0),\n",
       " ('dyer', 'rad', 2, 7.8, 8.81, 9.82),\n",
       " ('dyer', 'sal', 2, 0.09, 0.11, 0.13),\n",
       " ('lake', 'rad', 2, 1.46, 1.825, 2.19),\n",
       " ('lake', 'sal', 4, 0.05, 0.1125, 0.21),\n",
       " ('lake', 'temp', 1, -16.0, -16.0, -16.0),\n",
       " ('pb', 'rad', 3, 4.35, 6.659999999999999, 8.41),\n",
       " ('pb', 'temp', 2, -21.5, -20.0, -18.5),\n",
       " ('roe', 'rad', 1, 11.25, 11.25, 11.25),\n",
       " ('roe', 'sal', 2, 22.5, 32.05, 41.6)]"
      ]
     },
     "execution_count": 113,
     "metadata": {},
     "output_type": "execute_result"
    }
   ],
   "source": [
    "%%sql\n",
    "SELECT person, quant, count(reading), min(reading), avg(reading), max(reading) FROM Survey\n",
    "GROUP BY person, quant;"
   ]
  },
  {
   "cell_type": "code",
   "execution_count": 114,
   "metadata": {},
   "outputs": [
    {
     "name": "stdout",
     "output_type": "stream",
     "text": [
      " * sqlite:///../data/survey.db\n",
      "Done.\n"
     ]
    },
    {
     "data": {
      "text/html": [
       "<table>\n",
       "    <tr>\n",
       "        <th>person</th>\n",
       "        <th>quant</th>\n",
       "        <th>count(reading)</th>\n",
       "        <th>min(reading)</th>\n",
       "        <th>avg(reading)</th>\n",
       "        <th>max(reading)</th>\n",
       "    </tr>\n",
       "    <tr>\n",
       "        <td>dyer</td>\n",
       "        <td>rad</td>\n",
       "        <td>2</td>\n",
       "        <td>7.8</td>\n",
       "        <td>8.81</td>\n",
       "        <td>9.82</td>\n",
       "    </tr>\n",
       "    <tr>\n",
       "        <td>dyer</td>\n",
       "        <td>sal</td>\n",
       "        <td>2</td>\n",
       "        <td>0.09</td>\n",
       "        <td>0.11</td>\n",
       "        <td>0.13</td>\n",
       "    </tr>\n",
       "    <tr>\n",
       "        <td>lake</td>\n",
       "        <td>rad</td>\n",
       "        <td>2</td>\n",
       "        <td>1.46</td>\n",
       "        <td>1.825</td>\n",
       "        <td>2.19</td>\n",
       "    </tr>\n",
       "    <tr>\n",
       "        <td>lake</td>\n",
       "        <td>sal</td>\n",
       "        <td>4</td>\n",
       "        <td>0.05</td>\n",
       "        <td>0.1125</td>\n",
       "        <td>0.21</td>\n",
       "    </tr>\n",
       "    <tr>\n",
       "        <td>lake</td>\n",
       "        <td>temp</td>\n",
       "        <td>1</td>\n",
       "        <td>-16.0</td>\n",
       "        <td>-16.0</td>\n",
       "        <td>-16.0</td>\n",
       "    </tr>\n",
       "    <tr>\n",
       "        <td>pb</td>\n",
       "        <td>rad</td>\n",
       "        <td>3</td>\n",
       "        <td>4.35</td>\n",
       "        <td>6.659999999999999</td>\n",
       "        <td>8.41</td>\n",
       "    </tr>\n",
       "    <tr>\n",
       "        <td>pb</td>\n",
       "        <td>temp</td>\n",
       "        <td>2</td>\n",
       "        <td>-21.5</td>\n",
       "        <td>-20.0</td>\n",
       "        <td>-18.5</td>\n",
       "    </tr>\n",
       "    <tr>\n",
       "        <td>roe</td>\n",
       "        <td>rad</td>\n",
       "        <td>1</td>\n",
       "        <td>11.25</td>\n",
       "        <td>11.25</td>\n",
       "        <td>11.25</td>\n",
       "    </tr>\n",
       "    <tr>\n",
       "        <td>roe</td>\n",
       "        <td>sal</td>\n",
       "        <td>2</td>\n",
       "        <td>22.5</td>\n",
       "        <td>32.05</td>\n",
       "        <td>41.6</td>\n",
       "    </tr>\n",
       "</table>"
      ],
      "text/plain": [
       "[('dyer', 'rad', 2, 7.8, 8.81, 9.82),\n",
       " ('dyer', 'sal', 2, 0.09, 0.11, 0.13),\n",
       " ('lake', 'rad', 2, 1.46, 1.825, 2.19),\n",
       " ('lake', 'sal', 4, 0.05, 0.1125, 0.21),\n",
       " ('lake', 'temp', 1, -16.0, -16.0, -16.0),\n",
       " ('pb', 'rad', 3, 4.35, 6.659999999999999, 8.41),\n",
       " ('pb', 'temp', 2, -21.5, -20.0, -18.5),\n",
       " ('roe', 'rad', 1, 11.25, 11.25, 11.25),\n",
       " ('roe', 'sal', 2, 22.5, 32.05, 41.6)]"
      ]
     },
     "execution_count": 114,
     "metadata": {},
     "output_type": "execute_result"
    }
   ],
   "source": [
    "%%sql\n",
    "SELECT person, quant, count(reading), min(reading), avg(reading), max(reading) FROM Survey\n",
    "WHERE person IS NOT NULL\n",
    "GROUP BY person, quant;"
   ]
  },
  {
   "cell_type": "markdown",
   "metadata": {},
   "source": [
    "Let's breakdown the execution of the above query."
   ]
  },
  {
   "cell_type": "code",
   "execution_count": 115,
   "metadata": {},
   "outputs": [
    {
     "name": "stdout",
     "output_type": "stream",
     "text": [
      " * sqlite:///../data/survey.db\n",
      "Done.\n"
     ]
    },
    {
     "data": {
      "text/html": [
       "<table>\n",
       "    <tr>\n",
       "        <th>taken</th>\n",
       "        <th>person</th>\n",
       "        <th>quant</th>\n",
       "        <th>reading</th>\n",
       "    </tr>\n",
       "    <tr>\n",
       "        <td>619</td>\n",
       "        <td>dyer</td>\n",
       "        <td>rad</td>\n",
       "        <td>9.82</td>\n",
       "    </tr>\n",
       "    <tr>\n",
       "        <td>619</td>\n",
       "        <td>dyer</td>\n",
       "        <td>sal</td>\n",
       "        <td>0.13</td>\n",
       "    </tr>\n",
       "    <tr>\n",
       "        <td>622</td>\n",
       "        <td>dyer</td>\n",
       "        <td>rad</td>\n",
       "        <td>7.8</td>\n",
       "    </tr>\n",
       "    <tr>\n",
       "        <td>622</td>\n",
       "        <td>dyer</td>\n",
       "        <td>sal</td>\n",
       "        <td>0.09</td>\n",
       "    </tr>\n",
       "    <tr>\n",
       "        <td>734</td>\n",
       "        <td>pb</td>\n",
       "        <td>rad</td>\n",
       "        <td>8.41</td>\n",
       "    </tr>\n",
       "    <tr>\n",
       "        <td>734</td>\n",
       "        <td>lake</td>\n",
       "        <td>sal</td>\n",
       "        <td>0.05</td>\n",
       "    </tr>\n",
       "    <tr>\n",
       "        <td>734</td>\n",
       "        <td>pb</td>\n",
       "        <td>temp</td>\n",
       "        <td>-21.5</td>\n",
       "    </tr>\n",
       "    <tr>\n",
       "        <td>735</td>\n",
       "        <td>pb</td>\n",
       "        <td>rad</td>\n",
       "        <td>7.22</td>\n",
       "    </tr>\n",
       "    <tr>\n",
       "        <td>751</td>\n",
       "        <td>pb</td>\n",
       "        <td>rad</td>\n",
       "        <td>4.35</td>\n",
       "    </tr>\n",
       "    <tr>\n",
       "        <td>751</td>\n",
       "        <td>pb</td>\n",
       "        <td>temp</td>\n",
       "        <td>-18.5</td>\n",
       "    </tr>\n",
       "    <tr>\n",
       "        <td>751</td>\n",
       "        <td>lake</td>\n",
       "        <td>sal</td>\n",
       "        <td>0.1</td>\n",
       "    </tr>\n",
       "    <tr>\n",
       "        <td>752</td>\n",
       "        <td>lake</td>\n",
       "        <td>rad</td>\n",
       "        <td>2.19</td>\n",
       "    </tr>\n",
       "    <tr>\n",
       "        <td>752</td>\n",
       "        <td>lake</td>\n",
       "        <td>sal</td>\n",
       "        <td>0.09</td>\n",
       "    </tr>\n",
       "    <tr>\n",
       "        <td>752</td>\n",
       "        <td>lake</td>\n",
       "        <td>temp</td>\n",
       "        <td>-16.0</td>\n",
       "    </tr>\n",
       "    <tr>\n",
       "        <td>752</td>\n",
       "        <td>roe</td>\n",
       "        <td>sal</td>\n",
       "        <td>41.6</td>\n",
       "    </tr>\n",
       "    <tr>\n",
       "        <td>837</td>\n",
       "        <td>lake</td>\n",
       "        <td>rad</td>\n",
       "        <td>1.46</td>\n",
       "    </tr>\n",
       "    <tr>\n",
       "        <td>837</td>\n",
       "        <td>lake</td>\n",
       "        <td>sal</td>\n",
       "        <td>0.21</td>\n",
       "    </tr>\n",
       "    <tr>\n",
       "        <td>837</td>\n",
       "        <td>roe</td>\n",
       "        <td>sal</td>\n",
       "        <td>22.5</td>\n",
       "    </tr>\n",
       "    <tr>\n",
       "        <td>844</td>\n",
       "        <td>roe</td>\n",
       "        <td>rad</td>\n",
       "        <td>11.25</td>\n",
       "    </tr>\n",
       "</table>"
      ],
      "text/plain": [
       "[(619, 'dyer', 'rad', 9.82),\n",
       " (619, 'dyer', 'sal', 0.13),\n",
       " (622, 'dyer', 'rad', 7.8),\n",
       " (622, 'dyer', 'sal', 0.09),\n",
       " (734, 'pb', 'rad', 8.41),\n",
       " (734, 'lake', 'sal', 0.05),\n",
       " (734, 'pb', 'temp', -21.5),\n",
       " (735, 'pb', 'rad', 7.22),\n",
       " (751, 'pb', 'rad', 4.35),\n",
       " (751, 'pb', 'temp', -18.5),\n",
       " (751, 'lake', 'sal', 0.1),\n",
       " (752, 'lake', 'rad', 2.19),\n",
       " (752, 'lake', 'sal', 0.09),\n",
       " (752, 'lake', 'temp', -16.0),\n",
       " (752, 'roe', 'sal', 41.6),\n",
       " (837, 'lake', 'rad', 1.46),\n",
       " (837, 'lake', 'sal', 0.21),\n",
       " (837, 'roe', 'sal', 22.5),\n",
       " (844, 'roe', 'rad', 11.25)]"
      ]
     },
     "execution_count": 115,
     "metadata": {},
     "output_type": "execute_result"
    }
   ],
   "source": [
    "%%sql\n",
    "SELECT * FROM Survey\n",
    "WHERE person IS NOT NULL;"
   ]
  },
  {
   "cell_type": "code",
   "execution_count": 117,
   "metadata": {},
   "outputs": [
    {
     "name": "stdout",
     "output_type": "stream",
     "text": [
      " * sqlite:///../data/survey.db\n",
      "Done.\n"
     ]
    },
    {
     "data": {
      "text/html": [
       "<table>\n",
       "    <tr>\n",
       "        <th>person</th>\n",
       "        <th>quant</th>\n",
       "    </tr>\n",
       "    <tr>\n",
       "        <td>dyer</td>\n",
       "        <td>rad</td>\n",
       "    </tr>\n",
       "    <tr>\n",
       "        <td>dyer</td>\n",
       "        <td>sal</td>\n",
       "    </tr>\n",
       "    <tr>\n",
       "        <td>lake</td>\n",
       "        <td>rad</td>\n",
       "    </tr>\n",
       "    <tr>\n",
       "        <td>lake</td>\n",
       "        <td>sal</td>\n",
       "    </tr>\n",
       "    <tr>\n",
       "        <td>lake</td>\n",
       "        <td>temp</td>\n",
       "    </tr>\n",
       "    <tr>\n",
       "        <td>pb</td>\n",
       "        <td>rad</td>\n",
       "    </tr>\n",
       "    <tr>\n",
       "        <td>pb</td>\n",
       "        <td>temp</td>\n",
       "    </tr>\n",
       "    <tr>\n",
       "        <td>roe</td>\n",
       "        <td>rad</td>\n",
       "    </tr>\n",
       "    <tr>\n",
       "        <td>roe</td>\n",
       "        <td>sal</td>\n",
       "    </tr>\n",
       "</table>"
      ],
      "text/plain": [
       "[('dyer', 'rad'),\n",
       " ('dyer', 'sal'),\n",
       " ('lake', 'rad'),\n",
       " ('lake', 'sal'),\n",
       " ('lake', 'temp'),\n",
       " ('pb', 'rad'),\n",
       " ('pb', 'temp'),\n",
       " ('roe', 'rad'),\n",
       " ('roe', 'sal')]"
      ]
     },
     "execution_count": 117,
     "metadata": {},
     "output_type": "execute_result"
    }
   ],
   "source": [
    "%%sql\n",
    "SELECT person, quant FROM Survey\n",
    "WHERE person IS NOT NULL\n",
    "GROUP BY person, quant;"
   ]
  },
  {
   "cell_type": "code",
   "execution_count": 118,
   "metadata": {},
   "outputs": [
    {
     "name": "stdout",
     "output_type": "stream",
     "text": [
      " * sqlite:///../data/survey.db\n",
      "Done.\n"
     ]
    },
    {
     "data": {
      "text/html": [
       "<table>\n",
       "    <tr>\n",
       "        <th>person</th>\n",
       "        <th>quant</th>\n",
       "        <th>count(reading)</th>\n",
       "        <th>min(reading)</th>\n",
       "        <th>avg(reading)</th>\n",
       "        <th>max(reading)</th>\n",
       "    </tr>\n",
       "    <tr>\n",
       "        <td>dyer</td>\n",
       "        <td>rad</td>\n",
       "        <td>2</td>\n",
       "        <td>7.8</td>\n",
       "        <td>8.81</td>\n",
       "        <td>9.82</td>\n",
       "    </tr>\n",
       "    <tr>\n",
       "        <td>dyer</td>\n",
       "        <td>sal</td>\n",
       "        <td>2</td>\n",
       "        <td>0.09</td>\n",
       "        <td>0.11</td>\n",
       "        <td>0.13</td>\n",
       "    </tr>\n",
       "    <tr>\n",
       "        <td>lake</td>\n",
       "        <td>rad</td>\n",
       "        <td>2</td>\n",
       "        <td>1.46</td>\n",
       "        <td>1.825</td>\n",
       "        <td>2.19</td>\n",
       "    </tr>\n",
       "    <tr>\n",
       "        <td>lake</td>\n",
       "        <td>sal</td>\n",
       "        <td>4</td>\n",
       "        <td>0.05</td>\n",
       "        <td>0.1125</td>\n",
       "        <td>0.21</td>\n",
       "    </tr>\n",
       "    <tr>\n",
       "        <td>lake</td>\n",
       "        <td>temp</td>\n",
       "        <td>1</td>\n",
       "        <td>-16.0</td>\n",
       "        <td>-16.0</td>\n",
       "        <td>-16.0</td>\n",
       "    </tr>\n",
       "    <tr>\n",
       "        <td>pb</td>\n",
       "        <td>rad</td>\n",
       "        <td>3</td>\n",
       "        <td>4.35</td>\n",
       "        <td>6.659999999999999</td>\n",
       "        <td>8.41</td>\n",
       "    </tr>\n",
       "    <tr>\n",
       "        <td>pb</td>\n",
       "        <td>temp</td>\n",
       "        <td>2</td>\n",
       "        <td>-21.5</td>\n",
       "        <td>-20.0</td>\n",
       "        <td>-18.5</td>\n",
       "    </tr>\n",
       "    <tr>\n",
       "        <td>roe</td>\n",
       "        <td>rad</td>\n",
       "        <td>1</td>\n",
       "        <td>11.25</td>\n",
       "        <td>11.25</td>\n",
       "        <td>11.25</td>\n",
       "    </tr>\n",
       "    <tr>\n",
       "        <td>roe</td>\n",
       "        <td>sal</td>\n",
       "        <td>2</td>\n",
       "        <td>22.5</td>\n",
       "        <td>32.05</td>\n",
       "        <td>41.6</td>\n",
       "    </tr>\n",
       "</table>"
      ],
      "text/plain": [
       "[('dyer', 'rad', 2, 7.8, 8.81, 9.82),\n",
       " ('dyer', 'sal', 2, 0.09, 0.11, 0.13),\n",
       " ('lake', 'rad', 2, 1.46, 1.825, 2.19),\n",
       " ('lake', 'sal', 4, 0.05, 0.1125, 0.21),\n",
       " ('lake', 'temp', 1, -16.0, -16.0, -16.0),\n",
       " ('pb', 'rad', 3, 4.35, 6.659999999999999, 8.41),\n",
       " ('pb', 'temp', 2, -21.5, -20.0, -18.5),\n",
       " ('roe', 'rad', 1, 11.25, 11.25, 11.25),\n",
       " ('roe', 'sal', 2, 22.5, 32.05, 41.6)]"
      ]
     },
     "execution_count": 118,
     "metadata": {},
     "output_type": "execute_result"
    }
   ],
   "source": [
    "%%sql\n",
    "SELECT person, quant, count(reading), min(reading), avg(reading), max(reading) FROM Survey\n",
    "WHERE person IS NOT NULL\n",
    "GROUP BY person, quant;"
   ]
  },
  {
   "cell_type": "markdown",
   "metadata": {},
   "source": [
    "Performing the above, more comlex query in the database is likely MUCH faster than extracting results using a simple query and peforming aggregation in Pandas. **Rule of thumb: push as much computation into the database as possible to maximize efficiency!**"
   ]
  },
  {
   "cell_type": "code",
   "execution_count": 119,
   "metadata": {},
   "outputs": [
    {
     "name": "stdout",
     "output_type": "stream",
     "text": [
      " * sqlite:///../data/survey.db\n",
      "Done.\n"
     ]
    },
    {
     "data": {
      "text/html": [
       "<table>\n",
       "    <tr>\n",
       "        <th>taken</th>\n",
       "        <th>person</th>\n",
       "        <th>quant</th>\n",
       "        <th>reading</th>\n",
       "    </tr>\n",
       "    <tr>\n",
       "        <td>619</td>\n",
       "        <td>dyer</td>\n",
       "        <td>rad</td>\n",
       "        <td>9.82</td>\n",
       "    </tr>\n",
       "    <tr>\n",
       "        <td>619</td>\n",
       "        <td>dyer</td>\n",
       "        <td>sal</td>\n",
       "        <td>0.13</td>\n",
       "    </tr>\n",
       "    <tr>\n",
       "        <td>622</td>\n",
       "        <td>dyer</td>\n",
       "        <td>rad</td>\n",
       "        <td>7.8</td>\n",
       "    </tr>\n",
       "    <tr>\n",
       "        <td>622</td>\n",
       "        <td>dyer</td>\n",
       "        <td>sal</td>\n",
       "        <td>0.09</td>\n",
       "    </tr>\n",
       "    <tr>\n",
       "        <td>734</td>\n",
       "        <td>pb</td>\n",
       "        <td>rad</td>\n",
       "        <td>8.41</td>\n",
       "    </tr>\n",
       "    <tr>\n",
       "        <td>734</td>\n",
       "        <td>lake</td>\n",
       "        <td>sal</td>\n",
       "        <td>0.05</td>\n",
       "    </tr>\n",
       "    <tr>\n",
       "        <td>734</td>\n",
       "        <td>pb</td>\n",
       "        <td>temp</td>\n",
       "        <td>-21.5</td>\n",
       "    </tr>\n",
       "    <tr>\n",
       "        <td>735</td>\n",
       "        <td>pb</td>\n",
       "        <td>rad</td>\n",
       "        <td>7.22</td>\n",
       "    </tr>\n",
       "    <tr>\n",
       "        <td>735</td>\n",
       "        <td>None</td>\n",
       "        <td>sal</td>\n",
       "        <td>0.06</td>\n",
       "    </tr>\n",
       "    <tr>\n",
       "        <td>735</td>\n",
       "        <td>None</td>\n",
       "        <td>temp</td>\n",
       "        <td>-26.0</td>\n",
       "    </tr>\n",
       "    <tr>\n",
       "        <td>751</td>\n",
       "        <td>pb</td>\n",
       "        <td>rad</td>\n",
       "        <td>4.35</td>\n",
       "    </tr>\n",
       "    <tr>\n",
       "        <td>751</td>\n",
       "        <td>pb</td>\n",
       "        <td>temp</td>\n",
       "        <td>-18.5</td>\n",
       "    </tr>\n",
       "    <tr>\n",
       "        <td>751</td>\n",
       "        <td>lake</td>\n",
       "        <td>sal</td>\n",
       "        <td>0.1</td>\n",
       "    </tr>\n",
       "    <tr>\n",
       "        <td>752</td>\n",
       "        <td>lake</td>\n",
       "        <td>rad</td>\n",
       "        <td>2.19</td>\n",
       "    </tr>\n",
       "    <tr>\n",
       "        <td>752</td>\n",
       "        <td>lake</td>\n",
       "        <td>sal</td>\n",
       "        <td>0.09</td>\n",
       "    </tr>\n",
       "    <tr>\n",
       "        <td>752</td>\n",
       "        <td>lake</td>\n",
       "        <td>temp</td>\n",
       "        <td>-16.0</td>\n",
       "    </tr>\n",
       "    <tr>\n",
       "        <td>752</td>\n",
       "        <td>roe</td>\n",
       "        <td>sal</td>\n",
       "        <td>41.6</td>\n",
       "    </tr>\n",
       "    <tr>\n",
       "        <td>837</td>\n",
       "        <td>lake</td>\n",
       "        <td>rad</td>\n",
       "        <td>1.46</td>\n",
       "    </tr>\n",
       "    <tr>\n",
       "        <td>837</td>\n",
       "        <td>lake</td>\n",
       "        <td>sal</td>\n",
       "        <td>0.21</td>\n",
       "    </tr>\n",
       "    <tr>\n",
       "        <td>837</td>\n",
       "        <td>roe</td>\n",
       "        <td>sal</td>\n",
       "        <td>22.5</td>\n",
       "    </tr>\n",
       "    <tr>\n",
       "        <td>844</td>\n",
       "        <td>roe</td>\n",
       "        <td>rad</td>\n",
       "        <td>11.25</td>\n",
       "    </tr>\n",
       "</table>"
      ],
      "text/plain": [
       "[(619, 'dyer', 'rad', 9.82),\n",
       " (619, 'dyer', 'sal', 0.13),\n",
       " (622, 'dyer', 'rad', 7.8),\n",
       " (622, 'dyer', 'sal', 0.09),\n",
       " (734, 'pb', 'rad', 8.41),\n",
       " (734, 'lake', 'sal', 0.05),\n",
       " (734, 'pb', 'temp', -21.5),\n",
       " (735, 'pb', 'rad', 7.22),\n",
       " (735, None, 'sal', 0.06),\n",
       " (735, None, 'temp', -26.0),\n",
       " (751, 'pb', 'rad', 4.35),\n",
       " (751, 'pb', 'temp', -18.5),\n",
       " (751, 'lake', 'sal', 0.1),\n",
       " (752, 'lake', 'rad', 2.19),\n",
       " (752, 'lake', 'sal', 0.09),\n",
       " (752, 'lake', 'temp', -16.0),\n",
       " (752, 'roe', 'sal', 41.6),\n",
       " (837, 'lake', 'rad', 1.46),\n",
       " (837, 'lake', 'sal', 0.21),\n",
       " (837, 'roe', 'sal', 22.5),\n",
       " (844, 'roe', 'rad', 11.25)]"
      ]
     },
     "execution_count": 119,
     "metadata": {},
     "output_type": "execute_result"
    }
   ],
   "source": [
    "%%sql\n",
    "SELECT * FROM Survey;"
   ]
  },
  {
   "cell_type": "markdown",
   "metadata": {},
   "source": [
    "## Combining Data"
   ]
  },
  {
   "cell_type": "code",
   "execution_count": 121,
   "metadata": {},
   "outputs": [
    {
     "name": "stdout",
     "output_type": "stream",
     "text": [
      " * sqlite:///../data/survey.db\n",
      "Done.\n"
     ]
    },
    {
     "data": {
      "text/html": [
       "<table>\n",
       "    <tr>\n",
       "        <th>name</th>\n",
       "        <th>lat</th>\n",
       "        <th>long</th>\n",
       "    </tr>\n",
       "    <tr>\n",
       "        <td>DR-1</td>\n",
       "        <td>-49.85</td>\n",
       "        <td>-128.57</td>\n",
       "    </tr>\n",
       "    <tr>\n",
       "        <td>DR-3</td>\n",
       "        <td>-47.15</td>\n",
       "        <td>-126.72</td>\n",
       "    </tr>\n",
       "    <tr>\n",
       "        <td>MSK-4</td>\n",
       "        <td>-48.87</td>\n",
       "        <td>-123.4</td>\n",
       "    </tr>\n",
       "</table>"
      ],
      "text/plain": [
       "[('DR-1', -49.85, -128.57),\n",
       " ('DR-3', -47.15, -126.72),\n",
       " ('MSK-4', -48.87, -123.4)]"
      ]
     },
     "execution_count": 121,
     "metadata": {},
     "output_type": "execute_result"
    }
   ],
   "source": [
    "%%sql\n",
    "SELECT * FROM Site;"
   ]
  },
  {
   "cell_type": "code",
   "execution_count": 122,
   "metadata": {},
   "outputs": [
    {
     "name": "stdout",
     "output_type": "stream",
     "text": [
      " * sqlite:///../data/survey.db\n",
      "Done.\n"
     ]
    },
    {
     "data": {
      "text/html": [
       "<table>\n",
       "    <tr>\n",
       "        <th>id</th>\n",
       "        <th>site</th>\n",
       "        <th>dated</th>\n",
       "    </tr>\n",
       "    <tr>\n",
       "        <td>619</td>\n",
       "        <td>DR-1</td>\n",
       "        <td>1927-02-08</td>\n",
       "    </tr>\n",
       "    <tr>\n",
       "        <td>622</td>\n",
       "        <td>DR-1</td>\n",
       "        <td>1927-02-10</td>\n",
       "    </tr>\n",
       "    <tr>\n",
       "        <td>734</td>\n",
       "        <td>DR-3</td>\n",
       "        <td>1930-01-07</td>\n",
       "    </tr>\n",
       "    <tr>\n",
       "        <td>735</td>\n",
       "        <td>DR-3</td>\n",
       "        <td>1930-01-12</td>\n",
       "    </tr>\n",
       "    <tr>\n",
       "        <td>751</td>\n",
       "        <td>DR-3</td>\n",
       "        <td>1930-02-26</td>\n",
       "    </tr>\n",
       "    <tr>\n",
       "        <td>752</td>\n",
       "        <td>DR-3</td>\n",
       "        <td>None</td>\n",
       "    </tr>\n",
       "    <tr>\n",
       "        <td>837</td>\n",
       "        <td>MSK-4</td>\n",
       "        <td>1932-01-14</td>\n",
       "    </tr>\n",
       "    <tr>\n",
       "        <td>844</td>\n",
       "        <td>DR-1</td>\n",
       "        <td>1932-03-22</td>\n",
       "    </tr>\n",
       "</table>"
      ],
      "text/plain": [
       "[(619, 'DR-1', '1927-02-08'),\n",
       " (622, 'DR-1', '1927-02-10'),\n",
       " (734, 'DR-3', '1930-01-07'),\n",
       " (735, 'DR-3', '1930-01-12'),\n",
       " (751, 'DR-3', '1930-02-26'),\n",
       " (752, 'DR-3', None),\n",
       " (837, 'MSK-4', '1932-01-14'),\n",
       " (844, 'DR-1', '1932-03-22')]"
      ]
     },
     "execution_count": 122,
     "metadata": {},
     "output_type": "execute_result"
    }
   ],
   "source": [
    "%%sql\n",
    "SELECT * FROM Visited;"
   ]
  },
  {
   "cell_type": "code",
   "execution_count": 120,
   "metadata": {},
   "outputs": [
    {
     "name": "stdout",
     "output_type": "stream",
     "text": [
      " * sqlite:///../data/survey.db\n",
      "Done.\n"
     ]
    },
    {
     "data": {
      "text/html": [
       "<table>\n",
       "    <tr>\n",
       "        <th>name</th>\n",
       "        <th>lat</th>\n",
       "        <th>long</th>\n",
       "        <th>id</th>\n",
       "        <th>site</th>\n",
       "        <th>dated</th>\n",
       "    </tr>\n",
       "    <tr>\n",
       "        <td>DR-1</td>\n",
       "        <td>-49.85</td>\n",
       "        <td>-128.57</td>\n",
       "        <td>619</td>\n",
       "        <td>DR-1</td>\n",
       "        <td>1927-02-08</td>\n",
       "    </tr>\n",
       "    <tr>\n",
       "        <td>DR-1</td>\n",
       "        <td>-49.85</td>\n",
       "        <td>-128.57</td>\n",
       "        <td>622</td>\n",
       "        <td>DR-1</td>\n",
       "        <td>1927-02-10</td>\n",
       "    </tr>\n",
       "    <tr>\n",
       "        <td>DR-1</td>\n",
       "        <td>-49.85</td>\n",
       "        <td>-128.57</td>\n",
       "        <td>734</td>\n",
       "        <td>DR-3</td>\n",
       "        <td>1930-01-07</td>\n",
       "    </tr>\n",
       "    <tr>\n",
       "        <td>DR-1</td>\n",
       "        <td>-49.85</td>\n",
       "        <td>-128.57</td>\n",
       "        <td>735</td>\n",
       "        <td>DR-3</td>\n",
       "        <td>1930-01-12</td>\n",
       "    </tr>\n",
       "    <tr>\n",
       "        <td>DR-1</td>\n",
       "        <td>-49.85</td>\n",
       "        <td>-128.57</td>\n",
       "        <td>751</td>\n",
       "        <td>DR-3</td>\n",
       "        <td>1930-02-26</td>\n",
       "    </tr>\n",
       "    <tr>\n",
       "        <td>DR-1</td>\n",
       "        <td>-49.85</td>\n",
       "        <td>-128.57</td>\n",
       "        <td>752</td>\n",
       "        <td>DR-3</td>\n",
       "        <td>None</td>\n",
       "    </tr>\n",
       "    <tr>\n",
       "        <td>DR-1</td>\n",
       "        <td>-49.85</td>\n",
       "        <td>-128.57</td>\n",
       "        <td>837</td>\n",
       "        <td>MSK-4</td>\n",
       "        <td>1932-01-14</td>\n",
       "    </tr>\n",
       "    <tr>\n",
       "        <td>DR-1</td>\n",
       "        <td>-49.85</td>\n",
       "        <td>-128.57</td>\n",
       "        <td>844</td>\n",
       "        <td>DR-1</td>\n",
       "        <td>1932-03-22</td>\n",
       "    </tr>\n",
       "    <tr>\n",
       "        <td>DR-3</td>\n",
       "        <td>-47.15</td>\n",
       "        <td>-126.72</td>\n",
       "        <td>619</td>\n",
       "        <td>DR-1</td>\n",
       "        <td>1927-02-08</td>\n",
       "    </tr>\n",
       "    <tr>\n",
       "        <td>DR-3</td>\n",
       "        <td>-47.15</td>\n",
       "        <td>-126.72</td>\n",
       "        <td>622</td>\n",
       "        <td>DR-1</td>\n",
       "        <td>1927-02-10</td>\n",
       "    </tr>\n",
       "    <tr>\n",
       "        <td>DR-3</td>\n",
       "        <td>-47.15</td>\n",
       "        <td>-126.72</td>\n",
       "        <td>734</td>\n",
       "        <td>DR-3</td>\n",
       "        <td>1930-01-07</td>\n",
       "    </tr>\n",
       "    <tr>\n",
       "        <td>DR-3</td>\n",
       "        <td>-47.15</td>\n",
       "        <td>-126.72</td>\n",
       "        <td>735</td>\n",
       "        <td>DR-3</td>\n",
       "        <td>1930-01-12</td>\n",
       "    </tr>\n",
       "    <tr>\n",
       "        <td>DR-3</td>\n",
       "        <td>-47.15</td>\n",
       "        <td>-126.72</td>\n",
       "        <td>751</td>\n",
       "        <td>DR-3</td>\n",
       "        <td>1930-02-26</td>\n",
       "    </tr>\n",
       "    <tr>\n",
       "        <td>DR-3</td>\n",
       "        <td>-47.15</td>\n",
       "        <td>-126.72</td>\n",
       "        <td>752</td>\n",
       "        <td>DR-3</td>\n",
       "        <td>None</td>\n",
       "    </tr>\n",
       "    <tr>\n",
       "        <td>DR-3</td>\n",
       "        <td>-47.15</td>\n",
       "        <td>-126.72</td>\n",
       "        <td>837</td>\n",
       "        <td>MSK-4</td>\n",
       "        <td>1932-01-14</td>\n",
       "    </tr>\n",
       "    <tr>\n",
       "        <td>DR-3</td>\n",
       "        <td>-47.15</td>\n",
       "        <td>-126.72</td>\n",
       "        <td>844</td>\n",
       "        <td>DR-1</td>\n",
       "        <td>1932-03-22</td>\n",
       "    </tr>\n",
       "    <tr>\n",
       "        <td>MSK-4</td>\n",
       "        <td>-48.87</td>\n",
       "        <td>-123.4</td>\n",
       "        <td>619</td>\n",
       "        <td>DR-1</td>\n",
       "        <td>1927-02-08</td>\n",
       "    </tr>\n",
       "    <tr>\n",
       "        <td>MSK-4</td>\n",
       "        <td>-48.87</td>\n",
       "        <td>-123.4</td>\n",
       "        <td>622</td>\n",
       "        <td>DR-1</td>\n",
       "        <td>1927-02-10</td>\n",
       "    </tr>\n",
       "    <tr>\n",
       "        <td>MSK-4</td>\n",
       "        <td>-48.87</td>\n",
       "        <td>-123.4</td>\n",
       "        <td>734</td>\n",
       "        <td>DR-3</td>\n",
       "        <td>1930-01-07</td>\n",
       "    </tr>\n",
       "    <tr>\n",
       "        <td>MSK-4</td>\n",
       "        <td>-48.87</td>\n",
       "        <td>-123.4</td>\n",
       "        <td>735</td>\n",
       "        <td>DR-3</td>\n",
       "        <td>1930-01-12</td>\n",
       "    </tr>\n",
       "    <tr>\n",
       "        <td>MSK-4</td>\n",
       "        <td>-48.87</td>\n",
       "        <td>-123.4</td>\n",
       "        <td>751</td>\n",
       "        <td>DR-3</td>\n",
       "        <td>1930-02-26</td>\n",
       "    </tr>\n",
       "    <tr>\n",
       "        <td>MSK-4</td>\n",
       "        <td>-48.87</td>\n",
       "        <td>-123.4</td>\n",
       "        <td>752</td>\n",
       "        <td>DR-3</td>\n",
       "        <td>None</td>\n",
       "    </tr>\n",
       "    <tr>\n",
       "        <td>MSK-4</td>\n",
       "        <td>-48.87</td>\n",
       "        <td>-123.4</td>\n",
       "        <td>837</td>\n",
       "        <td>MSK-4</td>\n",
       "        <td>1932-01-14</td>\n",
       "    </tr>\n",
       "    <tr>\n",
       "        <td>MSK-4</td>\n",
       "        <td>-48.87</td>\n",
       "        <td>-123.4</td>\n",
       "        <td>844</td>\n",
       "        <td>DR-1</td>\n",
       "        <td>1932-03-22</td>\n",
       "    </tr>\n",
       "</table>"
      ],
      "text/plain": [
       "[('DR-1', -49.85, -128.57, 619, 'DR-1', '1927-02-08'),\n",
       " ('DR-1', -49.85, -128.57, 622, 'DR-1', '1927-02-10'),\n",
       " ('DR-1', -49.85, -128.57, 734, 'DR-3', '1930-01-07'),\n",
       " ('DR-1', -49.85, -128.57, 735, 'DR-3', '1930-01-12'),\n",
       " ('DR-1', -49.85, -128.57, 751, 'DR-3', '1930-02-26'),\n",
       " ('DR-1', -49.85, -128.57, 752, 'DR-3', None),\n",
       " ('DR-1', -49.85, -128.57, 837, 'MSK-4', '1932-01-14'),\n",
       " ('DR-1', -49.85, -128.57, 844, 'DR-1', '1932-03-22'),\n",
       " ('DR-3', -47.15, -126.72, 619, 'DR-1', '1927-02-08'),\n",
       " ('DR-3', -47.15, -126.72, 622, 'DR-1', '1927-02-10'),\n",
       " ('DR-3', -47.15, -126.72, 734, 'DR-3', '1930-01-07'),\n",
       " ('DR-3', -47.15, -126.72, 735, 'DR-3', '1930-01-12'),\n",
       " ('DR-3', -47.15, -126.72, 751, 'DR-3', '1930-02-26'),\n",
       " ('DR-3', -47.15, -126.72, 752, 'DR-3', None),\n",
       " ('DR-3', -47.15, -126.72, 837, 'MSK-4', '1932-01-14'),\n",
       " ('DR-3', -47.15, -126.72, 844, 'DR-1', '1932-03-22'),\n",
       " ('MSK-4', -48.87, -123.4, 619, 'DR-1', '1927-02-08'),\n",
       " ('MSK-4', -48.87, -123.4, 622, 'DR-1', '1927-02-10'),\n",
       " ('MSK-4', -48.87, -123.4, 734, 'DR-3', '1930-01-07'),\n",
       " ('MSK-4', -48.87, -123.4, 735, 'DR-3', '1930-01-12'),\n",
       " ('MSK-4', -48.87, -123.4, 751, 'DR-3', '1930-02-26'),\n",
       " ('MSK-4', -48.87, -123.4, 752, 'DR-3', None),\n",
       " ('MSK-4', -48.87, -123.4, 837, 'MSK-4', '1932-01-14'),\n",
       " ('MSK-4', -48.87, -123.4, 844, 'DR-1', '1932-03-22')]"
      ]
     },
     "execution_count": 120,
     "metadata": {},
     "output_type": "execute_result"
    }
   ],
   "source": [
    "%%sql\n",
    "SELECT * FROM Site JOIN Visited;"
   ]
  },
  {
   "cell_type": "code",
   "execution_count": 123,
   "metadata": {},
   "outputs": [
    {
     "name": "stdout",
     "output_type": "stream",
     "text": [
      " * sqlite:///../data/survey.db\n",
      "Done.\n"
     ]
    },
    {
     "data": {
      "text/html": [
       "<table>\n",
       "    <tr>\n",
       "        <th>name</th>\n",
       "        <th>lat</th>\n",
       "        <th>long</th>\n",
       "        <th>id</th>\n",
       "        <th>site</th>\n",
       "        <th>dated</th>\n",
       "    </tr>\n",
       "    <tr>\n",
       "        <td>DR-1</td>\n",
       "        <td>-49.85</td>\n",
       "        <td>-128.57</td>\n",
       "        <td>619</td>\n",
       "        <td>DR-1</td>\n",
       "        <td>1927-02-08</td>\n",
       "    </tr>\n",
       "    <tr>\n",
       "        <td>DR-1</td>\n",
       "        <td>-49.85</td>\n",
       "        <td>-128.57</td>\n",
       "        <td>622</td>\n",
       "        <td>DR-1</td>\n",
       "        <td>1927-02-10</td>\n",
       "    </tr>\n",
       "    <tr>\n",
       "        <td>DR-1</td>\n",
       "        <td>-49.85</td>\n",
       "        <td>-128.57</td>\n",
       "        <td>844</td>\n",
       "        <td>DR-1</td>\n",
       "        <td>1932-03-22</td>\n",
       "    </tr>\n",
       "    <tr>\n",
       "        <td>DR-3</td>\n",
       "        <td>-47.15</td>\n",
       "        <td>-126.72</td>\n",
       "        <td>734</td>\n",
       "        <td>DR-3</td>\n",
       "        <td>1930-01-07</td>\n",
       "    </tr>\n",
       "    <tr>\n",
       "        <td>DR-3</td>\n",
       "        <td>-47.15</td>\n",
       "        <td>-126.72</td>\n",
       "        <td>735</td>\n",
       "        <td>DR-3</td>\n",
       "        <td>1930-01-12</td>\n",
       "    </tr>\n",
       "    <tr>\n",
       "        <td>DR-3</td>\n",
       "        <td>-47.15</td>\n",
       "        <td>-126.72</td>\n",
       "        <td>751</td>\n",
       "        <td>DR-3</td>\n",
       "        <td>1930-02-26</td>\n",
       "    </tr>\n",
       "    <tr>\n",
       "        <td>DR-3</td>\n",
       "        <td>-47.15</td>\n",
       "        <td>-126.72</td>\n",
       "        <td>752</td>\n",
       "        <td>DR-3</td>\n",
       "        <td>None</td>\n",
       "    </tr>\n",
       "    <tr>\n",
       "        <td>MSK-4</td>\n",
       "        <td>-48.87</td>\n",
       "        <td>-123.4</td>\n",
       "        <td>837</td>\n",
       "        <td>MSK-4</td>\n",
       "        <td>1932-01-14</td>\n",
       "    </tr>\n",
       "</table>"
      ],
      "text/plain": [
       "[('DR-1', -49.85, -128.57, 619, 'DR-1', '1927-02-08'),\n",
       " ('DR-1', -49.85, -128.57, 622, 'DR-1', '1927-02-10'),\n",
       " ('DR-1', -49.85, -128.57, 844, 'DR-1', '1932-03-22'),\n",
       " ('DR-3', -47.15, -126.72, 734, 'DR-3', '1930-01-07'),\n",
       " ('DR-3', -47.15, -126.72, 735, 'DR-3', '1930-01-12'),\n",
       " ('DR-3', -47.15, -126.72, 751, 'DR-3', '1930-02-26'),\n",
       " ('DR-3', -47.15, -126.72, 752, 'DR-3', None),\n",
       " ('MSK-4', -48.87, -123.4, 837, 'MSK-4', '1932-01-14')]"
      ]
     },
     "execution_count": 123,
     "metadata": {},
     "output_type": "execute_result"
    }
   ],
   "source": [
    "%%sql\n",
    "SELECT * FROM Site JOIN Visited ON Site.name = Visited.site;"
   ]
  },
  {
   "cell_type": "code",
   "execution_count": 125,
   "metadata": {},
   "outputs": [
    {
     "name": "stdout",
     "output_type": "stream",
     "text": [
      " * sqlite:///../data/survey.db\n",
      "Done.\n"
     ]
    },
    {
     "data": {
      "text/html": [
       "<table>\n",
       "    <tr>\n",
       "        <th>name</th>\n",
       "        <th>lat</th>\n",
       "        <th>long</th>\n",
       "        <th>id</th>\n",
       "        <th>site</th>\n",
       "        <th>dated</th>\n",
       "        <th>taken</th>\n",
       "        <th>person</th>\n",
       "        <th>quant</th>\n",
       "        <th>reading</th>\n",
       "    </tr>\n",
       "    <tr>\n",
       "        <td>DR-1</td>\n",
       "        <td>-49.85</td>\n",
       "        <td>-128.57</td>\n",
       "        <td>619</td>\n",
       "        <td>DR-1</td>\n",
       "        <td>1927-02-08</td>\n",
       "        <td>619</td>\n",
       "        <td>dyer</td>\n",
       "        <td>rad</td>\n",
       "        <td>9.82</td>\n",
       "    </tr>\n",
       "    <tr>\n",
       "        <td>DR-1</td>\n",
       "        <td>-49.85</td>\n",
       "        <td>-128.57</td>\n",
       "        <td>619</td>\n",
       "        <td>DR-1</td>\n",
       "        <td>1927-02-08</td>\n",
       "        <td>619</td>\n",
       "        <td>dyer</td>\n",
       "        <td>sal</td>\n",
       "        <td>0.13</td>\n",
       "    </tr>\n",
       "    <tr>\n",
       "        <td>DR-1</td>\n",
       "        <td>-49.85</td>\n",
       "        <td>-128.57</td>\n",
       "        <td>622</td>\n",
       "        <td>DR-1</td>\n",
       "        <td>1927-02-10</td>\n",
       "        <td>622</td>\n",
       "        <td>dyer</td>\n",
       "        <td>rad</td>\n",
       "        <td>7.8</td>\n",
       "    </tr>\n",
       "    <tr>\n",
       "        <td>DR-1</td>\n",
       "        <td>-49.85</td>\n",
       "        <td>-128.57</td>\n",
       "        <td>622</td>\n",
       "        <td>DR-1</td>\n",
       "        <td>1927-02-10</td>\n",
       "        <td>622</td>\n",
       "        <td>dyer</td>\n",
       "        <td>sal</td>\n",
       "        <td>0.09</td>\n",
       "    </tr>\n",
       "    <tr>\n",
       "        <td>DR-3</td>\n",
       "        <td>-47.15</td>\n",
       "        <td>-126.72</td>\n",
       "        <td>734</td>\n",
       "        <td>DR-3</td>\n",
       "        <td>1930-01-07</td>\n",
       "        <td>734</td>\n",
       "        <td>lake</td>\n",
       "        <td>sal</td>\n",
       "        <td>0.05</td>\n",
       "    </tr>\n",
       "    <tr>\n",
       "        <td>DR-3</td>\n",
       "        <td>-47.15</td>\n",
       "        <td>-126.72</td>\n",
       "        <td>734</td>\n",
       "        <td>DR-3</td>\n",
       "        <td>1930-01-07</td>\n",
       "        <td>734</td>\n",
       "        <td>pb</td>\n",
       "        <td>rad</td>\n",
       "        <td>8.41</td>\n",
       "    </tr>\n",
       "    <tr>\n",
       "        <td>DR-3</td>\n",
       "        <td>-47.15</td>\n",
       "        <td>-126.72</td>\n",
       "        <td>734</td>\n",
       "        <td>DR-3</td>\n",
       "        <td>1930-01-07</td>\n",
       "        <td>734</td>\n",
       "        <td>pb</td>\n",
       "        <td>temp</td>\n",
       "        <td>-21.5</td>\n",
       "    </tr>\n",
       "    <tr>\n",
       "        <td>DR-3</td>\n",
       "        <td>-47.15</td>\n",
       "        <td>-126.72</td>\n",
       "        <td>735</td>\n",
       "        <td>DR-3</td>\n",
       "        <td>1930-01-12</td>\n",
       "        <td>735</td>\n",
       "        <td>None</td>\n",
       "        <td>sal</td>\n",
       "        <td>0.06</td>\n",
       "    </tr>\n",
       "    <tr>\n",
       "        <td>DR-3</td>\n",
       "        <td>-47.15</td>\n",
       "        <td>-126.72</td>\n",
       "        <td>735</td>\n",
       "        <td>DR-3</td>\n",
       "        <td>1930-01-12</td>\n",
       "        <td>735</td>\n",
       "        <td>None</td>\n",
       "        <td>temp</td>\n",
       "        <td>-26.0</td>\n",
       "    </tr>\n",
       "    <tr>\n",
       "        <td>DR-3</td>\n",
       "        <td>-47.15</td>\n",
       "        <td>-126.72</td>\n",
       "        <td>735</td>\n",
       "        <td>DR-3</td>\n",
       "        <td>1930-01-12</td>\n",
       "        <td>735</td>\n",
       "        <td>pb</td>\n",
       "        <td>rad</td>\n",
       "        <td>7.22</td>\n",
       "    </tr>\n",
       "    <tr>\n",
       "        <td>DR-3</td>\n",
       "        <td>-47.15</td>\n",
       "        <td>-126.72</td>\n",
       "        <td>751</td>\n",
       "        <td>DR-3</td>\n",
       "        <td>1930-02-26</td>\n",
       "        <td>751</td>\n",
       "        <td>lake</td>\n",
       "        <td>sal</td>\n",
       "        <td>0.1</td>\n",
       "    </tr>\n",
       "    <tr>\n",
       "        <td>DR-3</td>\n",
       "        <td>-47.15</td>\n",
       "        <td>-126.72</td>\n",
       "        <td>751</td>\n",
       "        <td>DR-3</td>\n",
       "        <td>1930-02-26</td>\n",
       "        <td>751</td>\n",
       "        <td>pb</td>\n",
       "        <td>rad</td>\n",
       "        <td>4.35</td>\n",
       "    </tr>\n",
       "    <tr>\n",
       "        <td>DR-3</td>\n",
       "        <td>-47.15</td>\n",
       "        <td>-126.72</td>\n",
       "        <td>751</td>\n",
       "        <td>DR-3</td>\n",
       "        <td>1930-02-26</td>\n",
       "        <td>751</td>\n",
       "        <td>pb</td>\n",
       "        <td>temp</td>\n",
       "        <td>-18.5</td>\n",
       "    </tr>\n",
       "    <tr>\n",
       "        <td>MSK-4</td>\n",
       "        <td>-48.87</td>\n",
       "        <td>-123.4</td>\n",
       "        <td>837</td>\n",
       "        <td>MSK-4</td>\n",
       "        <td>1932-01-14</td>\n",
       "        <td>837</td>\n",
       "        <td>lake</td>\n",
       "        <td>rad</td>\n",
       "        <td>1.46</td>\n",
       "    </tr>\n",
       "    <tr>\n",
       "        <td>MSK-4</td>\n",
       "        <td>-48.87</td>\n",
       "        <td>-123.4</td>\n",
       "        <td>837</td>\n",
       "        <td>MSK-4</td>\n",
       "        <td>1932-01-14</td>\n",
       "        <td>837</td>\n",
       "        <td>lake</td>\n",
       "        <td>sal</td>\n",
       "        <td>0.21</td>\n",
       "    </tr>\n",
       "    <tr>\n",
       "        <td>MSK-4</td>\n",
       "        <td>-48.87</td>\n",
       "        <td>-123.4</td>\n",
       "        <td>837</td>\n",
       "        <td>MSK-4</td>\n",
       "        <td>1932-01-14</td>\n",
       "        <td>837</td>\n",
       "        <td>roe</td>\n",
       "        <td>sal</td>\n",
       "        <td>22.5</td>\n",
       "    </tr>\n",
       "    <tr>\n",
       "        <td>DR-1</td>\n",
       "        <td>-49.85</td>\n",
       "        <td>-128.57</td>\n",
       "        <td>844</td>\n",
       "        <td>DR-1</td>\n",
       "        <td>1932-03-22</td>\n",
       "        <td>844</td>\n",
       "        <td>roe</td>\n",
       "        <td>rad</td>\n",
       "        <td>11.25</td>\n",
       "    </tr>\n",
       "</table>"
      ],
      "text/plain": [
       "[('DR-1', -49.85, -128.57, 619, 'DR-1', '1927-02-08', 619, 'dyer', 'rad', 9.82),\n",
       " ('DR-1', -49.85, -128.57, 619, 'DR-1', '1927-02-08', 619, 'dyer', 'sal', 0.13),\n",
       " ('DR-1', -49.85, -128.57, 622, 'DR-1', '1927-02-10', 622, 'dyer', 'rad', 7.8),\n",
       " ('DR-1', -49.85, -128.57, 622, 'DR-1', '1927-02-10', 622, 'dyer', 'sal', 0.09),\n",
       " ('DR-3', -47.15, -126.72, 734, 'DR-3', '1930-01-07', 734, 'lake', 'sal', 0.05),\n",
       " ('DR-3', -47.15, -126.72, 734, 'DR-3', '1930-01-07', 734, 'pb', 'rad', 8.41),\n",
       " ('DR-3', -47.15, -126.72, 734, 'DR-3', '1930-01-07', 734, 'pb', 'temp', -21.5),\n",
       " ('DR-3', -47.15, -126.72, 735, 'DR-3', '1930-01-12', 735, None, 'sal', 0.06),\n",
       " ('DR-3', -47.15, -126.72, 735, 'DR-3', '1930-01-12', 735, None, 'temp', -26.0),\n",
       " ('DR-3', -47.15, -126.72, 735, 'DR-3', '1930-01-12', 735, 'pb', 'rad', 7.22),\n",
       " ('DR-3', -47.15, -126.72, 751, 'DR-3', '1930-02-26', 751, 'lake', 'sal', 0.1),\n",
       " ('DR-3', -47.15, -126.72, 751, 'DR-3', '1930-02-26', 751, 'pb', 'rad', 4.35),\n",
       " ('DR-3', -47.15, -126.72, 751, 'DR-3', '1930-02-26', 751, 'pb', 'temp', -18.5),\n",
       " ('MSK-4', -48.87, -123.4, 837, 'MSK-4', '1932-01-14', 837, 'lake', 'rad', 1.46),\n",
       " ('MSK-4', -48.87, -123.4, 837, 'MSK-4', '1932-01-14', 837, 'lake', 'sal', 0.21),\n",
       " ('MSK-4', -48.87, -123.4, 837, 'MSK-4', '1932-01-14', 837, 'roe', 'sal', 22.5),\n",
       " ('DR-1', -49.85, -128.57, 844, 'DR-1', '1932-03-22', 844, 'roe', 'rad', 11.25)]"
      ]
     },
     "execution_count": 125,
     "metadata": {},
     "output_type": "execute_result"
    }
   ],
   "source": [
    "%%sql\n",
    "SELECT * FROM Site JOIN Visited JOIN Survey \n",
    "ON Site.name = Visited.site\n",
    "AND Visited.id = Survey.taken\n",
    "AND Visited.dated IS NOT NULL;"
   ]
  },
  {
   "cell_type": "code",
   "execution_count": 126,
   "metadata": {},
   "outputs": [
    {
     "name": "stdout",
     "output_type": "stream",
     "text": [
      " * sqlite:///../data/survey.db\n",
      "Done.\n"
     ]
    },
    {
     "data": {
      "text/html": [
       "<table>\n",
       "    <tr>\n",
       "        <th>lat</th>\n",
       "        <th>long</th>\n",
       "        <th>dated</th>\n",
       "        <th>quant</th>\n",
       "        <th>reading</th>\n",
       "    </tr>\n",
       "    <tr>\n",
       "        <td>-49.85</td>\n",
       "        <td>-128.57</td>\n",
       "        <td>1927-02-08</td>\n",
       "        <td>rad</td>\n",
       "        <td>9.82</td>\n",
       "    </tr>\n",
       "    <tr>\n",
       "        <td>-49.85</td>\n",
       "        <td>-128.57</td>\n",
       "        <td>1927-02-08</td>\n",
       "        <td>sal</td>\n",
       "        <td>0.13</td>\n",
       "    </tr>\n",
       "    <tr>\n",
       "        <td>-49.85</td>\n",
       "        <td>-128.57</td>\n",
       "        <td>1927-02-10</td>\n",
       "        <td>rad</td>\n",
       "        <td>7.8</td>\n",
       "    </tr>\n",
       "    <tr>\n",
       "        <td>-49.85</td>\n",
       "        <td>-128.57</td>\n",
       "        <td>1927-02-10</td>\n",
       "        <td>sal</td>\n",
       "        <td>0.09</td>\n",
       "    </tr>\n",
       "    <tr>\n",
       "        <td>-47.15</td>\n",
       "        <td>-126.72</td>\n",
       "        <td>1930-01-07</td>\n",
       "        <td>rad</td>\n",
       "        <td>8.41</td>\n",
       "    </tr>\n",
       "    <tr>\n",
       "        <td>-47.15</td>\n",
       "        <td>-126.72</td>\n",
       "        <td>1930-01-07</td>\n",
       "        <td>sal</td>\n",
       "        <td>0.05</td>\n",
       "    </tr>\n",
       "    <tr>\n",
       "        <td>-47.15</td>\n",
       "        <td>-126.72</td>\n",
       "        <td>1930-01-07</td>\n",
       "        <td>temp</td>\n",
       "        <td>-21.5</td>\n",
       "    </tr>\n",
       "    <tr>\n",
       "        <td>-47.15</td>\n",
       "        <td>-126.72</td>\n",
       "        <td>1930-01-12</td>\n",
       "        <td>rad</td>\n",
       "        <td>7.22</td>\n",
       "    </tr>\n",
       "    <tr>\n",
       "        <td>-47.15</td>\n",
       "        <td>-126.72</td>\n",
       "        <td>1930-01-12</td>\n",
       "        <td>sal</td>\n",
       "        <td>0.06</td>\n",
       "    </tr>\n",
       "    <tr>\n",
       "        <td>-47.15</td>\n",
       "        <td>-126.72</td>\n",
       "        <td>1930-01-12</td>\n",
       "        <td>temp</td>\n",
       "        <td>-26.0</td>\n",
       "    </tr>\n",
       "    <tr>\n",
       "        <td>-47.15</td>\n",
       "        <td>-126.72</td>\n",
       "        <td>1930-02-26</td>\n",
       "        <td>rad</td>\n",
       "        <td>4.35</td>\n",
       "    </tr>\n",
       "    <tr>\n",
       "        <td>-47.15</td>\n",
       "        <td>-126.72</td>\n",
       "        <td>1930-02-26</td>\n",
       "        <td>sal</td>\n",
       "        <td>0.1</td>\n",
       "    </tr>\n",
       "    <tr>\n",
       "        <td>-47.15</td>\n",
       "        <td>-126.72</td>\n",
       "        <td>1930-02-26</td>\n",
       "        <td>temp</td>\n",
       "        <td>-18.5</td>\n",
       "    </tr>\n",
       "    <tr>\n",
       "        <td>-48.87</td>\n",
       "        <td>-123.4</td>\n",
       "        <td>1932-01-14</td>\n",
       "        <td>rad</td>\n",
       "        <td>1.46</td>\n",
       "    </tr>\n",
       "    <tr>\n",
       "        <td>-48.87</td>\n",
       "        <td>-123.4</td>\n",
       "        <td>1932-01-14</td>\n",
       "        <td>sal</td>\n",
       "        <td>0.21</td>\n",
       "    </tr>\n",
       "    <tr>\n",
       "        <td>-48.87</td>\n",
       "        <td>-123.4</td>\n",
       "        <td>1932-01-14</td>\n",
       "        <td>sal</td>\n",
       "        <td>22.5</td>\n",
       "    </tr>\n",
       "    <tr>\n",
       "        <td>-49.85</td>\n",
       "        <td>-128.57</td>\n",
       "        <td>1932-03-22</td>\n",
       "        <td>rad</td>\n",
       "        <td>11.25</td>\n",
       "    </tr>\n",
       "</table>"
      ],
      "text/plain": [
       "[(-49.85, -128.57, '1927-02-08', 'rad', 9.82),\n",
       " (-49.85, -128.57, '1927-02-08', 'sal', 0.13),\n",
       " (-49.85, -128.57, '1927-02-10', 'rad', 7.8),\n",
       " (-49.85, -128.57, '1927-02-10', 'sal', 0.09),\n",
       " (-47.15, -126.72, '1930-01-07', 'rad', 8.41),\n",
       " (-47.15, -126.72, '1930-01-07', 'sal', 0.05),\n",
       " (-47.15, -126.72, '1930-01-07', 'temp', -21.5),\n",
       " (-47.15, -126.72, '1930-01-12', 'rad', 7.22),\n",
       " (-47.15, -126.72, '1930-01-12', 'sal', 0.06),\n",
       " (-47.15, -126.72, '1930-01-12', 'temp', -26.0),\n",
       " (-47.15, -126.72, '1930-02-26', 'rad', 4.35),\n",
       " (-47.15, -126.72, '1930-02-26', 'sal', 0.1),\n",
       " (-47.15, -126.72, '1930-02-26', 'temp', -18.5),\n",
       " (-48.87, -123.4, '1932-01-14', 'rad', 1.46),\n",
       " (-48.87, -123.4, '1932-01-14', 'sal', 0.21),\n",
       " (-48.87, -123.4, '1932-01-14', 'sal', 22.5),\n",
       " (-49.85, -128.57, '1932-03-22', 'rad', 11.25)]"
      ]
     },
     "execution_count": 126,
     "metadata": {},
     "output_type": "execute_result"
    }
   ],
   "source": [
    "%%sql\n",
    "SELECT Site.lat, Site.long, Visited.dated, Survey.quant, Survey.reading\n",
    "FROM Site JOIN Visited JOIN Survey \n",
    "ON Site.name = Visited.site\n",
    "AND Visited.id = Survey.taken\n",
    "AND Visited.dated IS NOT NULL;"
   ]
  },
  {
   "cell_type": "code",
   "execution_count": 129,
   "metadata": {},
   "outputs": [
    {
     "name": "stdout",
     "output_type": "stream",
     "text": [
      " * sqlite:///../data/survey.db\n",
      "Done.\n"
     ]
    },
    {
     "data": {
      "text/html": [
       "<table>\n",
       "    <tr>\n",
       "        <th>lat</th>\n",
       "        <th>long</th>\n",
       "        <th>dated</th>\n",
       "        <th>quant</th>\n",
       "        <th>reading</th>\n",
       "    </tr>\n",
       "    <tr>\n",
       "        <td>-49.85</td>\n",
       "        <td>-128.57</td>\n",
       "        <td>1927-02-08</td>\n",
       "        <td>rad</td>\n",
       "        <td>9.82</td>\n",
       "    </tr>\n",
       "    <tr>\n",
       "        <td>-49.85</td>\n",
       "        <td>-128.57</td>\n",
       "        <td>1927-02-08</td>\n",
       "        <td>sal</td>\n",
       "        <td>0.13</td>\n",
       "    </tr>\n",
       "    <tr>\n",
       "        <td>-49.85</td>\n",
       "        <td>-128.57</td>\n",
       "        <td>1927-02-10</td>\n",
       "        <td>rad</td>\n",
       "        <td>7.8</td>\n",
       "    </tr>\n",
       "    <tr>\n",
       "        <td>-49.85</td>\n",
       "        <td>-128.57</td>\n",
       "        <td>1927-02-10</td>\n",
       "        <td>sal</td>\n",
       "        <td>0.09</td>\n",
       "    </tr>\n",
       "    <tr>\n",
       "        <td>-47.15</td>\n",
       "        <td>-126.72</td>\n",
       "        <td>1930-01-07</td>\n",
       "        <td>rad</td>\n",
       "        <td>8.41</td>\n",
       "    </tr>\n",
       "    <tr>\n",
       "        <td>-47.15</td>\n",
       "        <td>-126.72</td>\n",
       "        <td>1930-01-07</td>\n",
       "        <td>sal</td>\n",
       "        <td>0.05</td>\n",
       "    </tr>\n",
       "    <tr>\n",
       "        <td>-47.15</td>\n",
       "        <td>-126.72</td>\n",
       "        <td>1930-01-12</td>\n",
       "        <td>rad</td>\n",
       "        <td>7.22</td>\n",
       "    </tr>\n",
       "    <tr>\n",
       "        <td>-47.15</td>\n",
       "        <td>-126.72</td>\n",
       "        <td>1930-01-12</td>\n",
       "        <td>sal</td>\n",
       "        <td>0.06</td>\n",
       "    </tr>\n",
       "    <tr>\n",
       "        <td>-47.15</td>\n",
       "        <td>-126.72</td>\n",
       "        <td>1930-02-26</td>\n",
       "        <td>rad</td>\n",
       "        <td>4.35</td>\n",
       "    </tr>\n",
       "    <tr>\n",
       "        <td>-47.15</td>\n",
       "        <td>-126.72</td>\n",
       "        <td>1930-02-26</td>\n",
       "        <td>sal</td>\n",
       "        <td>0.1</td>\n",
       "    </tr>\n",
       "    <tr>\n",
       "        <td>-48.87</td>\n",
       "        <td>-123.4</td>\n",
       "        <td>1932-01-14</td>\n",
       "        <td>rad</td>\n",
       "        <td>1.46</td>\n",
       "    </tr>\n",
       "    <tr>\n",
       "        <td>-48.87</td>\n",
       "        <td>-123.4</td>\n",
       "        <td>1932-01-14</td>\n",
       "        <td>sal</td>\n",
       "        <td>0.21</td>\n",
       "    </tr>\n",
       "    <tr>\n",
       "        <td>-48.87</td>\n",
       "        <td>-123.4</td>\n",
       "        <td>1932-01-14</td>\n",
       "        <td>sal</td>\n",
       "        <td>22.5</td>\n",
       "    </tr>\n",
       "    <tr>\n",
       "        <td>-49.85</td>\n",
       "        <td>-128.57</td>\n",
       "        <td>1932-03-22</td>\n",
       "        <td>rad</td>\n",
       "        <td>11.25</td>\n",
       "    </tr>\n",
       "</table>"
      ],
      "text/plain": [
       "[(-49.85, -128.57, '1927-02-08', 'rad', 9.82),\n",
       " (-49.85, -128.57, '1927-02-08', 'sal', 0.13),\n",
       " (-49.85, -128.57, '1927-02-10', 'rad', 7.8),\n",
       " (-49.85, -128.57, '1927-02-10', 'sal', 0.09),\n",
       " (-47.15, -126.72, '1930-01-07', 'rad', 8.41),\n",
       " (-47.15, -126.72, '1930-01-07', 'sal', 0.05),\n",
       " (-47.15, -126.72, '1930-01-12', 'rad', 7.22),\n",
       " (-47.15, -126.72, '1930-01-12', 'sal', 0.06),\n",
       " (-47.15, -126.72, '1930-02-26', 'rad', 4.35),\n",
       " (-47.15, -126.72, '1930-02-26', 'sal', 0.1),\n",
       " (-48.87, -123.4, '1932-01-14', 'rad', 1.46),\n",
       " (-48.87, -123.4, '1932-01-14', 'sal', 0.21),\n",
       " (-48.87, -123.4, '1932-01-14', 'sal', 22.5),\n",
       " (-49.85, -128.57, '1932-03-22', 'rad', 11.25)]"
      ]
     },
     "execution_count": 129,
     "metadata": {},
     "output_type": "execute_result"
    }
   ],
   "source": [
    "%%sql\n",
    "SELECT Site.lat, Site.long, Visited.dated, Survey.quant, Survey.reading\n",
    "FROM Site JOIN Visited JOIN Survey \n",
    "ON Site.name = Visited.site AND Visited.id = Survey.taken AND Visited.dated IS NOT NULL\n",
    "WHERE Survey.reading > 0.0;"
   ]
  },
  {
   "cell_type": "code",
   "execution_count": null,
   "metadata": {},
   "outputs": [],
   "source": []
  }
 ],
 "metadata": {
  "kernelspec": {
   "display_name": "Python 3",
   "language": "python",
   "name": "python3"
  },
  "language_info": {
   "codemirror_mode": {
    "name": "ipython",
    "version": 3
   },
   "file_extension": ".py",
   "mimetype": "text/x-python",
   "name": "python",
   "nbconvert_exporter": "python",
   "pygments_lexer": "ipython3",
   "version": "3.8.6"
  }
 },
 "nbformat": 4,
 "nbformat_minor": 4
}
